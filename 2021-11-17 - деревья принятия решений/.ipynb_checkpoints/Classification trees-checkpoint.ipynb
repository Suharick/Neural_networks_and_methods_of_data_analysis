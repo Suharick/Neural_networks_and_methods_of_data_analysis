{
 "cells": [
  {
   "cell_type": "markdown",
   "metadata": {},
   "source": [
    "# <center>Деревья классификации</center>"
   ]
  },
  {
   "cell_type": "code",
   "execution_count": 1,
   "metadata": {},
   "outputs": [],
   "source": [
    "import pandas as pd\n",
    "import numpy as np\n",
    "\n",
    "import matplotlib.pyplot as plt\n",
    "%matplotlib inline"
   ]
  },
  {
   "cell_type": "markdown",
   "metadata": {},
   "source": [
    "Рассмотрим задачу бинарной классификации. Сгенерируем обучающую выборку и сохраним её в переменные `(train_data, train_labels)`. Каждый объект характеризуется парой признаков $x_1$ и $x_2$."
   ]
  },
  {
   "cell_type": "code",
   "execution_count": 2,
   "metadata": {},
   "outputs": [],
   "source": [
    "np.random.seed(67)\n",
    "points = np.random.uniform(size=(20, 2), low=-1, high=1)\n",
    "positive = points[np.logical_xor(points[:, 0] >= 0, points[:, 1] >= 0)]\n",
    "negative = points[np.logical_xor(points[:, 0] >= 0, points[:, 1] < 0)]\n",
    "train_data = np.vstack([positive, negative])\n",
    "train_labels = np.hstack([np.ones(positive.shape[0]), np.zeros(negative.shape[0])])"
   ]
  },
  {
   "cell_type": "code",
   "execution_count": 3,
   "metadata": {},
   "outputs": [
    {
     "data": {
      "text/plain": [
       "array([[ 0.37178517, -0.33681636],\n",
       "       [-0.57370028,  0.8650133 ],\n",
       "       [ 0.4456366 , -0.90620939],\n",
       "       [-0.91362246,  0.91001759],\n",
       "       [-0.20464543,  0.05931678]])"
      ]
     },
     "execution_count": 3,
     "metadata": {},
     "output_type": "execute_result"
    }
   ],
   "source": [
    "train_data[:5]"
   ]
  },
  {
   "cell_type": "code",
   "execution_count": 4,
   "metadata": {},
   "outputs": [
    {
     "data": {
      "image/png": "[encoded data removed]",
      "text/plain": [
       "<Figure size 432x288 with 1 Axes>"
      ]
     },
     "metadata": {
      "needs_background": "light"
     },
     "output_type": "display_data"
    }
   ],
   "source": [
    "plt.scatter(train_data[:, 0], train_data[:, 1], \n",
    "            c=train_labels, s=100, cmap='Set1', edgecolors='black', linewidth=1.5)\n",
    "plt.xlim(-1, 1)\n",
    "plt.ylim(-1.2, 1.2)\n",
    "plt.show()"
   ]
  },
  {
   "cell_type": "markdown",
   "metadata": {},
   "source": [
    "**Задание 1.** Выберите предикаты, по которым проводить разбиение. Постройте дерево решений для данной задачи. Какой глубины будет оптимальное дерево?"
   ]
  },
  {
   "cell_type": "code",
   "execution_count": 5,
   "metadata": {},
   "outputs": [],
   "source": [
    "xR = train_data[train_data[:,0] > 0]\n",
    "yR = train_labels[train_data[:,0] > 0]\n",
    "\n",
    "xL = train_data[train_data[:,0] <= 0]\n",
    "yL = train_labels[train_data[:,0] <= 0]"
   ]
  },
  {
   "cell_type": "code",
   "execution_count": 7,
   "metadata": {},
   "outputs": [],
   "source": [
    "# справа сверху красные точки\n",
    "xRU = xR[xR[:,1] > 0]\n",
    "yRU = yR[xR[:,1] > 0]\n",
    "\n",
    "# справа снизу серые точки\n",
    "xRD = xR[xR[:,1] <= 0]\n",
    "yRD = yR[xR[:,1] <= 0]\n",
    "\n",
    "# слева сверху серые точки\n",
    "xLU = xL[xL[:,1] > 0]\n",
    "yLU = yL[xL[:,1] > 0]\n",
    "\n",
    "# слева снизу красные точки\n",
    "xLD = xL[xL[:,1] <= 0]\n",
    "yLD = yL[xL[:,1] <= 0]"
   ]
  },
  {
   "cell_type": "code",
   "execution_count": 8,
   "metadata": {
    "scrolled": true
   },
   "outputs": [
    {
     "data": {
      "text/plain": [
       "(array([[0.09170286, 0.71771322],\n",
       "        [0.6426217 , 0.183739  ],\n",
       "        [0.10395568, 0.41695126],\n",
       "        [0.90684911, 0.20384961],\n",
       "        [0.08922865, 0.92616443]]),\n",
       " array([0., 0., 0., 0., 0.]))"
      ]
     },
     "execution_count": 8,
     "metadata": {},
     "output_type": "execute_result"
    }
   ],
   "source": [
    "xRU, yRU"
   ]
  },
  {
   "cell_type": "code",
   "execution_count": 9,
   "metadata": {
    "scrolled": true
   },
   "outputs": [
    {
     "data": {
      "text/plain": [
       "(array([[ 0.37178517, -0.33681636],\n",
       "        [ 0.4456366 , -0.90620939],\n",
       "        [ 0.62832698, -0.40471628],\n",
       "        [ 0.46648013, -0.90772004]]),\n",
       " array([1., 1., 1., 1.]))"
      ]
     },
     "execution_count": 9,
     "metadata": {},
     "output_type": "execute_result"
    }
   ],
   "source": [
    "xRD, yRD"
   ]
  },
  {
   "cell_type": "code",
   "execution_count": 10,
   "metadata": {},
   "outputs": [
    {
     "data": {
      "text/plain": [
       "(array([[-0.57370028,  0.8650133 ],\n",
       "        [-0.91362246,  0.91001759],\n",
       "        [-0.20464543,  0.05931678],\n",
       "        [-0.63320905,  0.45599468]]),\n",
       " array([1., 1., 1., 1.]))"
      ]
     },
     "execution_count": 10,
     "metadata": {},
     "output_type": "execute_result"
    }
   ],
   "source": [
    "xLU, yLU"
   ]
  },
  {
   "cell_type": "code",
   "execution_count": 11,
   "metadata": {
    "scrolled": false
   },
   "outputs": [
    {
     "data": {
      "text/plain": [
       "(array([[-0.88000414, -0.22744444],\n",
       "        [-0.49585698, -0.36984662],\n",
       "        [-0.62432396, -0.29936019],\n",
       "        [-0.48551438, -0.97777177],\n",
       "        [-0.18082298, -0.1754911 ],\n",
       "        [-0.53437417, -0.38279009],\n",
       "        [-0.19549686, -0.2901396 ]]),\n",
       " array([0., 0., 0., 0., 0., 0., 0.]))"
      ]
     },
     "execution_count": 11,
     "metadata": {},
     "output_type": "execute_result"
    }
   ],
   "source": [
    "xLD, yLD"
   ]
  },
  {
   "cell_type": "code",
   "execution_count": null,
   "metadata": {},
   "outputs": [],
   "source": []
  },
  {
   "cell_type": "markdown",
   "metadata": {},
   "source": [
    "**Задание 2.** При построении деревьев классификации используются различные критерии информативности. Сравните начальную энтропию и начальное значение критерия Джини в данной задаче.\n",
    "\n",
    "$$S_0=-p log_2 p-(1-p)log_2(1-p)$$\n",
    "$$G_0=1-p^2-(1-p)^2$$"
   ]
  },
  {
   "cell_type": "code",
   "execution_count": 18,
   "metadata": {},
   "outputs": [],
   "source": [
    "from math import log2"
   ]
  },
  {
   "cell_type": "code",
   "execution_count": 17,
   "metadata": {},
   "outputs": [
    {
     "data": {
      "text/plain": [
       "0.4"
      ]
     },
     "execution_count": 17,
     "metadata": {},
     "output_type": "execute_result"
    }
   ],
   "source": [
    "p = len(train_labels[train_labels == 1]) / len(train_labels) #вероятность 1\n",
    "p"
   ]
  },
  {
   "cell_type": "code",
   "execution_count": 19,
   "metadata": {},
   "outputs": [
    {
     "data": {
      "text/plain": [
       "0.9709505944546686"
      ]
     },
     "execution_count": 19,
     "metadata": {},
     "output_type": "execute_result"
    }
   ],
   "source": [
    "s0 = - p*log2(p) - (1-p)*log2(1-p) # начальная энтропия\n",
    "s0"
   ]
  },
  {
   "cell_type": "code",
   "execution_count": 20,
   "metadata": {},
   "outputs": [
    {
     "data": {
      "text/plain": [
       "0.48"
      ]
     },
     "execution_count": 20,
     "metadata": {},
     "output_type": "execute_result"
    }
   ],
   "source": [
    "g0 = 1 - p**2 - (1-p)**2 # начальное значение критерия Джини\n",
    "g0"
   ]
  },
  {
   "cell_type": "code",
   "execution_count": null,
   "metadata": {},
   "outputs": [],
   "source": []
  },
  {
   "cell_type": "markdown",
   "metadata": {},
   "source": [
    "**Задание 3.** Определите набор предикатов для данной задачи. Для этого напишите функцию, которая по значениям признака и целевой переменной возвращает список предикатов для выбранного признака. Получите все предикаты по **всем** признакам."
   ]
  },
  {
   "cell_type": "code",
   "execution_count": 32,
   "metadata": {},
   "outputs": [
    {
     "data": {
      "text/html": [
       "<div>\n",
       "<style scoped>\n",
       "    .dataframe tbody tr th:only-of-type {\n",
       "        vertical-align: middle;\n",
       "    }\n",
       "\n",
       "    .dataframe tbody tr th {\n",
       "        vertical-align: top;\n",
       "    }\n",
       "\n",
       "    .dataframe thead th {\n",
       "        text-align: right;\n",
       "    }\n",
       "</style>\n",
       "<table border=\"1\" class=\"dataframe\">\n",
       "  <thead>\n",
       "    <tr style=\"text-align: right;\">\n",
       "      <th></th>\n",
       "      <th>x1</th>\n",
       "      <th>x2</th>\n",
       "      <th>y</th>\n",
       "    </tr>\n",
       "  </thead>\n",
       "  <tbody>\n",
       "    <tr>\n",
       "      <th>0</th>\n",
       "      <td>0.371785</td>\n",
       "      <td>-0.336816</td>\n",
       "      <td>1.0</td>\n",
       "    </tr>\n",
       "    <tr>\n",
       "      <th>1</th>\n",
       "      <td>-0.573700</td>\n",
       "      <td>0.865013</td>\n",
       "      <td>1.0</td>\n",
       "    </tr>\n",
       "    <tr>\n",
       "      <th>2</th>\n",
       "      <td>0.445637</td>\n",
       "      <td>-0.906209</td>\n",
       "      <td>1.0</td>\n",
       "    </tr>\n",
       "    <tr>\n",
       "      <th>3</th>\n",
       "      <td>-0.913622</td>\n",
       "      <td>0.910018</td>\n",
       "      <td>1.0</td>\n",
       "    </tr>\n",
       "    <tr>\n",
       "      <th>4</th>\n",
       "      <td>-0.204645</td>\n",
       "      <td>0.059317</td>\n",
       "      <td>1.0</td>\n",
       "    </tr>\n",
       "    <tr>\n",
       "      <th>5</th>\n",
       "      <td>0.628327</td>\n",
       "      <td>-0.404716</td>\n",
       "      <td>1.0</td>\n",
       "    </tr>\n",
       "    <tr>\n",
       "      <th>6</th>\n",
       "      <td>-0.633209</td>\n",
       "      <td>0.455995</td>\n",
       "      <td>1.0</td>\n",
       "    </tr>\n",
       "    <tr>\n",
       "      <th>7</th>\n",
       "      <td>0.466480</td>\n",
       "      <td>-0.907720</td>\n",
       "      <td>1.0</td>\n",
       "    </tr>\n",
       "    <tr>\n",
       "      <th>8</th>\n",
       "      <td>0.091703</td>\n",
       "      <td>0.717713</td>\n",
       "      <td>0.0</td>\n",
       "    </tr>\n",
       "    <tr>\n",
       "      <th>9</th>\n",
       "      <td>-0.880004</td>\n",
       "      <td>-0.227444</td>\n",
       "      <td>0.0</td>\n",
       "    </tr>\n",
       "  </tbody>\n",
       "</table>\n",
       "</div>"
      ],
      "text/plain": [
       "         x1        x2    y\n",
       "0  0.371785 -0.336816  1.0\n",
       "1 -0.573700  0.865013  1.0\n",
       "2  0.445637 -0.906209  1.0\n",
       "3 -0.913622  0.910018  1.0\n",
       "4 -0.204645  0.059317  1.0\n",
       "5  0.628327 -0.404716  1.0\n",
       "6 -0.633209  0.455995  1.0\n",
       "7  0.466480 -0.907720  1.0\n",
       "8  0.091703  0.717713  0.0\n",
       "9 -0.880004 -0.227444  0.0"
      ]
     },
     "execution_count": 32,
     "metadata": {},
     "output_type": "execute_result"
    }
   ],
   "source": [
    "points = pd.DataFrame({'x1' : train_data[:,0], 'x2' : train_data[:,1], 'y' : train_labels})\n",
    "points.head(10)"
   ]
  },
  {
   "cell_type": "code",
   "execution_count": 38,
   "metadata": {},
   "outputs": [],
   "source": [
    "sortByX1 = points.sort_values('x1')\n",
    "sortByX2 = points.sort_values('x2')"
   ]
  },
  {
   "cell_type": "code",
   "execution_count": 51,
   "metadata": {},
   "outputs": [],
   "source": [
    "def findPredicates(x, y):\n",
    "    predicates = []\n",
    "    for i in range(len(y)-1):\n",
    "        if y[i] - y[i+1] != 0:\n",
    "            predicates.append( (x[i] + x[i+1]) / 2 )\n",
    "    return predicates"
   ]
  },
  {
   "cell_type": "code",
   "execution_count": 53,
   "metadata": {},
   "outputs": [
    {
     "data": {
      "text/plain": [
       "[-0.8968132995429501,\n",
       " -0.7566065949742614,\n",
       " -0.6287665022757317,\n",
       " -0.5990121190564968,\n",
       " -0.554037228654128,\n",
       " -0.34507990333227334,\n",
       " -0.2000711452800843,\n",
       " 0.2378704257933334,\n",
       " 0.6354743396903453]"
      ]
     },
     "execution_count": 53,
     "metadata": {},
     "output_type": "execute_result"
    }
   ],
   "source": [
    "predicatesX1 = findPredicates(list(sortByX1['x1']), list(sortByX1['y']))\n",
    "predicatesX1"
   ]
  },
  {
   "cell_type": "code",
   "execution_count": 54,
   "metadata": {},
   "outputs": [
    {
     "data": {
      "text/plain": [
       "[-0.9427459061178219,\n",
       " -0.3937531883073182,\n",
       " -0.3533314885967552,\n",
       " -0.3180882719395066,\n",
       " -0.05808715883026605,\n",
       " 0.12152788893462807,\n",
       " 0.43647296726164697,\n",
       " 0.5868539488442623,\n",
       " 0.7913632606727191,\n",
       " 0.9180910094600978]"
      ]
     },
     "execution_count": 54,
     "metadata": {},
     "output_type": "execute_result"
    }
   ],
   "source": [
    "predicatesX2 = findPredicates(list(sortByX2['x2']), list(sortByX2['y']))\n",
    "predicatesX2 "
   ]
  },
  {
   "cell_type": "markdown",
   "metadata": {},
   "source": [
    "**Задание 4.** Для каждого полученного в задании 3 предиката вычислите прирост информации (IG) по **критерию Джини**. Какое правило предлагает поместить в корень дерева указанный критерий? Проведите такое разбиение."
   ]
  },
  {
   "cell_type": "code",
   "execution_count": 82,
   "metadata": {},
   "outputs": [],
   "source": [
    "def ig(x, g0, train_data, train_labels, axis):\n",
    "    bestIG = -10000\n",
    "    res = -10000\n",
    "    for i in x:\n",
    "        xR = train_data[train_data[:,axis] > i] # точки, которые уходят вправо\n",
    "        yR = train_labels[train_data[:,axis] > i] # цвет точек\n",
    "        \n",
    "        if len(yR) != 0:\n",
    "            pR = sum(yR) / len(yR) # вероятность точки с цветом 1 \n",
    "        else:\n",
    "            pR = 0\n",
    "        gr = 1 - pR**2 - (1-pR)**2 # новый критерий Джини \n",
    "\n",
    "        xL = train_data[train_data[:,axis] <= i]\n",
    "        yL = train_labels[train_data[:,axis] <= i]\n",
    "        \n",
    "        if len(yL) != 0:\n",
    "            pL = sum(yL) / len(yL)\n",
    "        else:\n",
    "            pL = 0\n",
    "        gL = 1 - pL**2 - (1-pL)**2\n",
    " \n",
    "        delta = g0 - gr*(xR.shape[0] / len(train_data)) - gL*(xL.shape[0] / len(train_data))\n",
    "        if delta >= bestIG:\n",
    "            bestIG = delta\n",
    "            res = i\n",
    "    return res"
   ]
  },
  {
   "cell_type": "code",
   "execution_count": 83,
   "metadata": {},
   "outputs": [
    {
     "data": {
      "text/plain": [
       "0.2378704257933334"
      ]
     },
     "execution_count": 83,
     "metadata": {},
     "output_type": "execute_result"
    }
   ],
   "source": [
    "bestIGx1 = ig(predicatesX1, g0, train_data, train_labels, 0)\n",
    "bestIGx1"
   ]
  },
  {
   "cell_type": "code",
   "execution_count": 84,
   "metadata": {},
   "outputs": [
    {
     "data": {
      "text/plain": [
       "-0.3937531883073182"
      ]
     },
     "execution_count": 84,
     "metadata": {},
     "output_type": "execute_result"
    }
   ],
   "source": [
    "bestIGx2 = ig(predicatesX2, g0, train_data, train_labels, 1)\n",
    "bestIGx2"
   ]
  },
  {
   "cell_type": "code",
   "execution_count": 85,
   "metadata": {},
   "outputs": [],
   "source": [
    "# разбиение по полученным показателям\n",
    "\n",
    "xR = train_data[train_data[:,0] > bestIGx1]\n",
    "yR = train_labels[train_data[:,0] > bestIGx1]\n",
    "\n",
    "xL = train_data[train_data[:,0] <= bestIGx1]\n",
    "yL = train_labels[train_data[:,0] <= bestIGx1]\n",
    "\n",
    "# справа сверху красные точки\n",
    "xRU = xR[xR[:,1] > bestIGx2]\n",
    "yRU = yR[xR[:,1] > bestIGx2]\n",
    "\n",
    "# справа снизу серые точки\n",
    "xRD = xR[xR[:,1] <= bestIGx2]\n",
    "yRD = yR[xR[:,1] <= bestIGx2]\n",
    "\n",
    "# слева сверху серые точки\n",
    "xLU = xL[xL[:,1] > bestIGx2]\n",
    "yLU = yL[xL[:,1] > bestIGx2]\n",
    "\n",
    "# слева снизу красные точки\n",
    "xLD = xL[xL[:,1] <= bestIGx2]\n",
    "yLD = yL[xL[:,1] <= bestIGx2]"
   ]
  },
  {
   "cell_type": "code",
   "execution_count": 86,
   "metadata": {
    "scrolled": true
   },
   "outputs": [
    {
     "data": {
      "text/plain": [
       "(array([[ 0.37178517, -0.33681636],\n",
       "        [ 0.6426217 ,  0.183739  ],\n",
       "        [ 0.90684911,  0.20384961]]),\n",
       " array([1., 0., 0.]))"
      ]
     },
     "execution_count": 86,
     "metadata": {},
     "output_type": "execute_result"
    }
   ],
   "source": [
    "xRU, yRU"
   ]
  },
  {
   "cell_type": "code",
   "execution_count": 87,
   "metadata": {
    "scrolled": true
   },
   "outputs": [
    {
     "data": {
      "text/plain": [
       "(array([[ 0.4456366 , -0.90620939],\n",
       "        [ 0.62832698, -0.40471628],\n",
       "        [ 0.46648013, -0.90772004]]),\n",
       " array([1., 1., 1.]))"
      ]
     },
     "execution_count": 87,
     "metadata": {},
     "output_type": "execute_result"
    }
   ],
   "source": [
    "xRD, yRD"
   ]
  },
  {
   "cell_type": "code",
   "execution_count": 88,
   "metadata": {},
   "outputs": [
    {
     "data": {
      "text/plain": [
       "(array([[-0.57370028,  0.8650133 ],\n",
       "        [-0.91362246,  0.91001759],\n",
       "        [-0.20464543,  0.05931678],\n",
       "        [-0.63320905,  0.45599468],\n",
       "        [ 0.09170286,  0.71771322],\n",
       "        [-0.88000414, -0.22744444],\n",
       "        [-0.49585698, -0.36984662],\n",
       "        [-0.62432396, -0.29936019],\n",
       "        [-0.18082298, -0.1754911 ],\n",
       "        [-0.53437417, -0.38279009],\n",
       "        [ 0.10395568,  0.41695126],\n",
       "        [-0.19549686, -0.2901396 ],\n",
       "        [ 0.08922865,  0.92616443]]),\n",
       " array([1., 1., 1., 1., 0., 0., 0., 0., 0., 0., 0., 0., 0.]))"
      ]
     },
     "execution_count": 88,
     "metadata": {},
     "output_type": "execute_result"
    }
   ],
   "source": [
    "xLU, yLU"
   ]
  },
  {
   "cell_type": "code",
   "execution_count": 89,
   "metadata": {
    "scrolled": true
   },
   "outputs": [
    {
     "data": {
      "text/plain": [
       "(array([[-0.48551438, -0.97777177]]), array([0.]))"
      ]
     },
     "execution_count": 89,
     "metadata": {},
     "output_type": "execute_result"
    }
   ],
   "source": [
    "xLD, yLD"
   ]
  },
  {
   "cell_type": "code",
   "execution_count": null,
   "metadata": {},
   "outputs": [],
   "source": []
  },
  {
   "cell_type": "markdown",
   "metadata": {},
   "source": [
    "**Задание 5.** Постройте решающее дерево той же глубины, что и в задании 1. С помощью полученного дерева классифицируйте объект с признаками (0.5, 0.3)."
   ]
  },
  {
   "cell_type": "code",
   "execution_count": 90,
   "metadata": {},
   "outputs": [],
   "source": [
    "pointX1 = 0.5\n",
    "pointX2 = 0.3"
   ]
  },
  {
   "cell_type": "code",
   "execution_count": 91,
   "metadata": {},
   "outputs": [],
   "source": [
    "if (pointX1 > bestIGx1 and pointX2 > bestIGx2) or (pointX1 <= bestIGx1 and pointX2 <= bestIGx2):\n",
    "    pointY = 0\n",
    "else:\n",
    "    pointY = 1"
   ]
  },
  {
   "cell_type": "code",
   "execution_count": 92,
   "metadata": {},
   "outputs": [
    {
     "data": {
      "text/plain": [
       "0"
      ]
     },
     "execution_count": 92,
     "metadata": {},
     "output_type": "execute_result"
    }
   ],
   "source": [
    "pointY # следовательно, это красная точка"
   ]
  },
  {
   "cell_type": "code",
   "execution_count": null,
   "metadata": {},
   "outputs": [],
   "source": []
  },
  {
   "cell_type": "markdown",
   "metadata": {},
   "source": [
    "**Задание 6*.** Постройте решающее дерево максимальной глубины, пользуясь критерием Джини. Какой глубины получилось дерево? Отобразите все предикаты на графике."
   ]
  },
  {
   "cell_type": "code",
   "execution_count": null,
   "metadata": {},
   "outputs": [],
   "source": []
  },
  {
   "cell_type": "code",
   "execution_count": null,
   "metadata": {},
   "outputs": [],
   "source": []
  },
  {
   "cell_type": "code",
   "execution_count": null,
   "metadata": {},
   "outputs": [],
   "source": []
  }
 ],
 "metadata": {
  "kernelspec": {
   "display_name": "Python 3",
   "language": "python",
   "name": "python3"
  },
  "language_info": {
   "codemirror_mode": {
    "name": "ipython",
    "version": 3
   },
   "file_extension": ".py",
   "mimetype": "text/x-python",
   "name": "python",
   "nbconvert_exporter": "python",
   "pygments_lexer": "ipython3",
   "version": "3.9.2"
  }
 },
 "nbformat": 4,
 "nbformat_minor": 4
}
