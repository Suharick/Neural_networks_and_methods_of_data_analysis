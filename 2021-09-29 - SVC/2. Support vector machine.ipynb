{
 "cells": [
  {
   "cell_type": "markdown",
   "metadata": {},
   "source": [
    "## Метод опорных векторов в sklearn"
   ]
  },
  {
   "cell_type": "markdown",
   "metadata": {},
   "source": [
    "**Задание 1.** Отобразите на графике данные задач `task1` и `task2`. Каждому классу определите свой цвет. Какое ядро необходимо выбрать для данных задач?"
   ]
  },
  {
   "cell_type": "code",
   "execution_count": 1,
   "metadata": {},
   "outputs": [],
   "source": [
    "import pandas as pd\n",
    "import numpy as np\n",
    "import matplotlib.pyplot as plt\n",
    "from sklearn.model_selection import train_test_split\n",
    "\n",
    "%matplotlib inline"
   ]
  },
  {
   "cell_type": "markdown",
   "metadata": {},
   "source": [
    "### Рассмотрим данные `task1`"
   ]
  },
  {
   "cell_type": "code",
   "execution_count": 5,
   "metadata": {
    "scrolled": true
   },
   "outputs": [
    {
     "data": {
      "text/html": [
       "<div>\n",
       "<style scoped>\n",
       "    .dataframe tbody tr th:only-of-type {\n",
       "        vertical-align: middle;\n",
       "    }\n",
       "\n",
       "    .dataframe tbody tr th {\n",
       "        vertical-align: top;\n",
       "    }\n",
       "\n",
       "    .dataframe thead th {\n",
       "        text-align: right;\n",
       "    }\n",
       "</style>\n",
       "<table border=\"1\" class=\"dataframe\">\n",
       "  <thead>\n",
       "    <tr style=\"text-align: right;\">\n",
       "      <th></th>\n",
       "      <th>x1</th>\n",
       "      <th>x2</th>\n",
       "      <th>y</th>\n",
       "    </tr>\n",
       "  </thead>\n",
       "  <tbody>\n",
       "    <tr>\n",
       "      <th>0</th>\n",
       "      <td>0.057833</td>\n",
       "      <td>-1.398096</td>\n",
       "      <td>-1</td>\n",
       "    </tr>\n",
       "    <tr>\n",
       "      <th>1</th>\n",
       "      <td>0.236386</td>\n",
       "      <td>0.283487</td>\n",
       "      <td>-1</td>\n",
       "    </tr>\n",
       "    <tr>\n",
       "      <th>2</th>\n",
       "      <td>-0.819391</td>\n",
       "      <td>0.809699</td>\n",
       "      <td>1</td>\n",
       "    </tr>\n",
       "    <tr>\n",
       "      <th>3</th>\n",
       "      <td>1.491693</td>\n",
       "      <td>-1.704607</td>\n",
       "      <td>-1</td>\n",
       "    </tr>\n",
       "    <tr>\n",
       "      <th>4</th>\n",
       "      <td>-0.567840</td>\n",
       "      <td>-0.071000</td>\n",
       "      <td>1</td>\n",
       "    </tr>\n",
       "  </tbody>\n",
       "</table>\n",
       "</div>"
      ],
      "text/plain": [
       "         x1        x2  y\n",
       "0  0.057833 -1.398096 -1\n",
       "1  0.236386  0.283487 -1\n",
       "2 -0.819391  0.809699  1\n",
       "3  1.491693 -1.704607 -1\n",
       "4 -0.567840 -0.071000  1"
      ]
     },
     "execution_count": 5,
     "metadata": {},
     "output_type": "execute_result"
    }
   ],
   "source": [
    "df1 = pd.read_csv('task1.csv', names = ['x1', 'x2', 'y'])\n",
    "df1.head()"
   ]
  },
  {
   "cell_type": "code",
   "execution_count": 6,
   "metadata": {},
   "outputs": [],
   "source": [
    "data11 = df1[df1['y'] == 1]\n",
    "data10 = df1[df1['y'] == -1]"
   ]
  },
  {
   "cell_type": "code",
   "execution_count": 9,
   "metadata": {
    "scrolled": false
   },
   "outputs": [
    {
     "data": {
      "image/png": "[encoded data removed]",
      "text/plain": [
       "<Figure size 504x504 with 1 Axes>"
      ]
     },
     "metadata": {
      "needs_background": "light"
     },
     "output_type": "display_data"
    }
   ],
   "source": [
    "fig, ax = plt.subplots()\n",
    "\n",
    "ax.scatter(data11['x1'], data11['x2'], c = 'r')\n",
    "ax.scatter(data10['x1'], data10['x2'], c = 'b')\n",
    "\n",
    "fig.set_figwidth(7)   \n",
    "fig.set_figheight(7)   \n",
    "\n",
    "plt.show()"
   ]
  },
  {
   "cell_type": "markdown",
   "metadata": {},
   "source": [
    "### Рассмотрим данные `task2`"
   ]
  },
  {
   "cell_type": "code",
   "execution_count": 10,
   "metadata": {
    "scrolled": true
   },
   "outputs": [
    {
     "data": {
      "text/html": [
       "<div>\n",
       "<style scoped>\n",
       "    .dataframe tbody tr th:only-of-type {\n",
       "        vertical-align: middle;\n",
       "    }\n",
       "\n",
       "    .dataframe tbody tr th {\n",
       "        vertical-align: top;\n",
       "    }\n",
       "\n",
       "    .dataframe thead th {\n",
       "        text-align: right;\n",
       "    }\n",
       "</style>\n",
       "<table border=\"1\" class=\"dataframe\">\n",
       "  <thead>\n",
       "    <tr style=\"text-align: right;\">\n",
       "      <th></th>\n",
       "      <th>x1</th>\n",
       "      <th>x2</th>\n",
       "      <th>y</th>\n",
       "    </tr>\n",
       "  </thead>\n",
       "  <tbody>\n",
       "    <tr>\n",
       "      <th>0</th>\n",
       "      <td>9.349913</td>\n",
       "      <td>-0.173044</td>\n",
       "      <td>1</td>\n",
       "    </tr>\n",
       "    <tr>\n",
       "      <th>1</th>\n",
       "      <td>-9.489691</td>\n",
       "      <td>-3.736932</td>\n",
       "      <td>1</td>\n",
       "    </tr>\n",
       "    <tr>\n",
       "      <th>2</th>\n",
       "      <td>-0.773686</td>\n",
       "      <td>-0.334750</td>\n",
       "      <td>-1</td>\n",
       "    </tr>\n",
       "    <tr>\n",
       "      <th>3</th>\n",
       "      <td>7.537869</td>\n",
       "      <td>3.060028</td>\n",
       "      <td>1</td>\n",
       "    </tr>\n",
       "    <tr>\n",
       "      <th>4</th>\n",
       "      <td>0.604132</td>\n",
       "      <td>-6.878277</td>\n",
       "      <td>1</td>\n",
       "    </tr>\n",
       "  </tbody>\n",
       "</table>\n",
       "</div>"
      ],
      "text/plain": [
       "         x1        x2  y\n",
       "0  9.349913 -0.173044  1\n",
       "1 -9.489691 -3.736932  1\n",
       "2 -0.773686 -0.334750 -1\n",
       "3  7.537869  3.060028  1\n",
       "4  0.604132 -6.878277  1"
      ]
     },
     "execution_count": 10,
     "metadata": {},
     "output_type": "execute_result"
    }
   ],
   "source": [
    "df2 = pd.read_csv('task2.csv', names = ['x1', 'x2', 'y'])\n",
    "df2.head()"
   ]
  },
  {
   "cell_type": "code",
   "execution_count": 11,
   "metadata": {},
   "outputs": [],
   "source": [
    "data21 = df2[df2['y'] == 1]\n",
    "data20 = df2[df2['y'] == -1]"
   ]
  },
  {
   "cell_type": "code",
   "execution_count": 12,
   "metadata": {
    "scrolled": false
   },
   "outputs": [
    {
     "data": {
      "image/png": "[encoded data removed]",
      "text/plain": [
       "<Figure size 504x504 with 1 Axes>"
      ]
     },
     "metadata": {
      "needs_background": "light"
     },
     "output_type": "display_data"
    }
   ],
   "source": [
    "fig, ax = plt.subplots()\n",
    "\n",
    "ax.scatter(data21['x1'], data21['x2'], c = 'r')\n",
    "ax.scatter(data20['x1'], data20['x2'], c = 'b')\n",
    "\n",
    "fig.set_figwidth(7)   \n",
    "fig.set_figheight(7)   \n",
    "\n",
    "plt.show()"
   ]
  },
  {
   "cell_type": "code",
   "execution_count": null,
   "metadata": {},
   "outputs": [],
   "source": []
  },
  {
   "cell_type": "code",
   "execution_count": null,
   "metadata": {},
   "outputs": [],
   "source": []
  },
  {
   "cell_type": "code",
   "execution_count": null,
   "metadata": {},
   "outputs": [],
   "source": []
  },
  {
   "cell_type": "code",
   "execution_count": null,
   "metadata": {},
   "outputs": [],
   "source": []
  },
  {
   "cell_type": "markdown",
   "metadata": {},
   "source": [
    "**Задание 2.** Обучите SVM из sklearn (`sklearn.svm.SVC`) с выбранными функциями ядра. Какие объекты оказались опорными? (методы `support_` и `support_vectors_` после применения метода `fit`)"
   ]
  },
  {
   "cell_type": "code",
   "execution_count": 13,
   "metadata": {},
   "outputs": [],
   "source": [
    "from sklearn.svm import SVC"
   ]
  },
  {
   "cell_type": "code",
   "execution_count": 16,
   "metadata": {},
   "outputs": [],
   "source": [
    "array1 = df1.values\n",
    "X1 = array1[:,0:2]\n",
    "Y1 = array1[:,2]"
   ]
  },
  {
   "cell_type": "code",
   "execution_count": 48,
   "metadata": {},
   "outputs": [],
   "source": [
    "model1 = SVC(kernel = 'linear')"
   ]
  },
  {
   "cell_type": "code",
   "execution_count": 49,
   "metadata": {
    "scrolled": true
   },
   "outputs": [
    {
     "data": {
      "text/plain": [
       "SVC(kernel='linear')"
      ]
     },
     "execution_count": 49,
     "metadata": {},
     "output_type": "execute_result"
    }
   ],
   "source": [
    "model1.fit(X1, Y1)"
   ]
  },
  {
   "cell_type": "code",
   "execution_count": 50,
   "metadata": {},
   "outputs": [
    {
     "data": {
      "text/plain": [
       "array([0, 1, 6, 2, 4, 5])"
      ]
     },
     "execution_count": 50,
     "metadata": {},
     "output_type": "execute_result"
    }
   ],
   "source": [
    "model1.support_"
   ]
  },
  {
   "cell_type": "code",
   "execution_count": 51,
   "metadata": {
    "scrolled": false
   },
   "outputs": [
    {
     "data": {
      "text/plain": [
       "array([[ 0.05783333, -1.39809578],\n",
       "       [ 0.23638569,  0.28348681],\n",
       "       [ 0.29379903,  0.66023859],\n",
       "       [-0.81939127,  0.80969886],\n",
       "       [-0.56784047, -0.07100018],\n",
       "       [-0.69441368, -0.99227863]])"
      ]
     },
     "execution_count": 51,
     "metadata": {},
     "output_type": "execute_result"
    }
   ],
   "source": [
    "sv1 = model1.support_vectors_\n",
    "sv1"
   ]
  },
  {
   "cell_type": "code",
   "execution_count": 52,
   "metadata": {},
   "outputs": [
    {
     "data": {
      "image/png": "[encoded data removed]",
      "text/plain": [
       "<Figure size 504x504 with 1 Axes>"
      ]
     },
     "metadata": {
      "needs_background": "light"
     },
     "output_type": "display_data"
    }
   ],
   "source": [
    "fig, ax = plt.subplots()\n",
    "\n",
    "ax.scatter(data11['x1'], data11['x2'], c = 'r')\n",
    "ax.scatter(data10['x1'], data10['x2'], c = 'b')\n",
    "ax.scatter((sv1.transpose())[0], (sv1.transpose())[1], c = 'g')\n",
    "\n",
    "fig.set_figwidth(7)   \n",
    "fig.set_figheight(7)   \n",
    "\n",
    "plt.show()"
   ]
  },
  {
   "cell_type": "markdown",
   "metadata": {},
   "source": [
    "\n",
    " \n",
    " \n",
    " "
   ]
  },
  {
   "cell_type": "code",
   "execution_count": 23,
   "metadata": {},
   "outputs": [],
   "source": [
    "array2 = df2.values\n",
    "X2 = array2[:,0:2]\n",
    "Y2 = array2[:,2]"
   ]
  },
  {
   "cell_type": "code",
   "execution_count": 61,
   "metadata": {},
   "outputs": [],
   "source": [
    "model2 = SVC()"
   ]
  },
  {
   "cell_type": "code",
   "execution_count": 62,
   "metadata": {
    "scrolled": true
   },
   "outputs": [
    {
     "data": {
      "text/plain": [
       "SVC()"
      ]
     },
     "execution_count": 62,
     "metadata": {},
     "output_type": "execute_result"
    }
   ],
   "source": [
    "model2.fit(X2, Y2)"
   ]
  },
  {
   "cell_type": "code",
   "execution_count": 63,
   "metadata": {},
   "outputs": [
    {
     "data": {
      "text/plain": [
       "array([ 2, 12, 20, 28, 33, 36, 47, 54, 68, 72, 74,  3,  6, 10, 13, 16, 31,\n",
       "       38, 40, 53, 56, 81, 84])"
      ]
     },
     "execution_count": 63,
     "metadata": {},
     "output_type": "execute_result"
    }
   ],
   "source": [
    "model2.support_"
   ]
  },
  {
   "cell_type": "code",
   "execution_count": 64,
   "metadata": {
    "scrolled": false
   },
   "outputs": [
    {
     "data": {
      "text/plain": [
       "array([[-0.77368594, -0.33474987],\n",
       "       [-4.23488395,  2.89957896],\n",
       "       [ 0.21069158, -0.29980541],\n",
       "       [-2.91017433, -0.02225634],\n",
       "       [-4.62313433,  8.57062626],\n",
       "       [-2.3384616 , -0.24062757],\n",
       "       [ 5.90735266,  8.04857575],\n",
       "       [ 4.31556286,  2.69393642],\n",
       "       [ 5.50914184,  8.5247225 ],\n",
       "       [-4.79086668,  8.06866448],\n",
       "       [ 5.48771328,  7.29468577],\n",
       "       [ 7.53786946,  3.06002849],\n",
       "       [-6.13653268,  0.28747428],\n",
       "       [ 9.52254432,  8.34221068],\n",
       "       [ 2.92318866, -4.95989192],\n",
       "       [-3.74120757, -3.07462674],\n",
       "       [-9.41172453,  8.53605063],\n",
       "       [-3.86307988, -3.44686084],\n",
       "       [ 6.37020475, -1.67675974],\n",
       "       [-8.05105707,  6.38394517],\n",
       "       [-2.30563574, -4.43450167],\n",
       "       [-7.55149136,  2.27918859],\n",
       "       [ 8.93859605,  8.09652503]])"
      ]
     },
     "execution_count": 64,
     "metadata": {},
     "output_type": "execute_result"
    }
   ],
   "source": [
    "sv2 = model2.support_vectors_\n",
    "sv2"
   ]
  },
  {
   "cell_type": "code",
   "execution_count": 65,
   "metadata": {},
   "outputs": [
    {
     "data": {
      "image/png": "[encoded data removed]",
      "text/plain": [
       "<Figure size 504x504 with 1 Axes>"
      ]
     },
     "metadata": {
      "needs_background": "light"
     },
     "output_type": "display_data"
    }
   ],
   "source": [
    "fig, ax = plt.subplots()\n",
    "\n",
    "ax.scatter(data11['x1'], data11['x2'], c = 'r')\n",
    "ax.scatter(data10['x1'], data10['x2'], c = 'b')\n",
    "ax.scatter((sv2.transpose())[0], (sv2.transpose())[1], c = 'g')\n",
    "\n",
    "fig.set_figwidth(7)   \n",
    "fig.set_figheight(7)   \n",
    "\n",
    "plt.show()"
   ]
  },
  {
   "cell_type": "code",
   "execution_count": null,
   "metadata": {},
   "outputs": [],
   "source": []
  },
  {
   "cell_type": "code",
   "execution_count": null,
   "metadata": {},
   "outputs": [],
   "source": []
  },
  {
   "cell_type": "code",
   "execution_count": null,
   "metadata": {},
   "outputs": [],
   "source": []
  },
  {
   "cell_type": "markdown",
   "metadata": {},
   "source": [
    "**Задание 3.** Отобразите на графике полученную разделяющую гиперплоскость (методы `coef_` и `intercept_` после применения `fit`)."
   ]
  },
  {
   "cell_type": "code",
   "execution_count": 152,
   "metadata": {},
   "outputs": [],
   "source": [
    "# только для линейного\n",
    "def plot_hyperplane(clf, min_x, max_x, linestyle, label):\n",
    "    w = clf.coef_[0]\n",
    "    a = -w[0] / w[1]\n",
    "    xx = np.linspace(min_x, max_x)\n",
    "    yy = a * xx - (clf.intercept_[0]) / w[1]\n",
    "    plt.plot(xx, yy, linestyle, label=label)"
   ]
  },
  {
   "cell_type": "code",
   "execution_count": 153,
   "metadata": {},
   "outputs": [],
   "source": [
    "min_x = np.min(X1[:, 0])\n",
    "max_x = np.max(X1[:, 0])"
   ]
  },
  {
   "cell_type": "code",
   "execution_count": 154,
   "metadata": {},
   "outputs": [
    {
     "data": {
      "image/png": "[encoded data removed]",
      "text/plain": [
       "<Figure size 504x504 with 1 Axes>"
      ]
     },
     "metadata": {
      "needs_background": "light"
     },
     "output_type": "display_data"
    }
   ],
   "source": [
    "fig, ax = plt.subplots()\n",
    "\n",
    "ax.scatter(data11['x1'], data11['x2'], c = 'r')\n",
    "ax.scatter(data10['x1'], data10['x2'], c = 'b')\n",
    "\n",
    "fig.set_figwidth(7)   \n",
    "fig.set_figheight(7)   \n",
    "\n",
    "plot_hyperplane(model1, min_x, max_x, 'k--',\n",
    "                'model1')\n",
    "\n",
    "plt.show()\n"
   ]
  },
  {
   "cell_type": "code",
   "execution_count": 105,
   "metadata": {},
   "outputs": [],
   "source": [
    "def plot_hyperplane2(clf, X, y, \n",
    "                    h=0.02, \n",
    "                    draw_sv=True, \n",
    "                    title='hyperplan'):\n",
    "    # create a mesh to plot in\n",
    "    x_min, x_max = X[:, 0].min() - 1, X[:, 0].max() + 1\n",
    "    y_min, y_max = X[:, 1].min() - 1, X[:, 1].max() + 1\n",
    "    xx, yy = np.meshgrid(np.arange(x_min, x_max, h),\n",
    "                         np.arange(y_min, y_max, h))\n",
    "\n",
    "    plt.title(title)\n",
    "    plt.xlim(xx.min(), xx.max())\n",
    "    plt.ylim(yy.min(), yy.max())\n",
    "    plt.xticks(())\n",
    "    plt.yticks(())\n",
    "\n",
    "    Z = clf.predict(np.c_[xx.ravel(), yy.ravel()]) # SVM-гиперплоскость сегментации\n",
    "    # Put the result into a color plot\n",
    "    Z = Z.reshape(xx.shape)\n",
    "    plt.contourf(xx, yy, Z, cmap='hot', alpha=0.5)\n",
    "\n",
    "    #markers = ['o', 's', '^']\n",
    "    colors = ['b', 'r', 'c']\n",
    "    labels = np.unique(y)\n",
    "    for label in labels:\n",
    "        plt.scatter(X[y==int(label)][:, 0], \n",
    "                    X[y==int(label)][:, 1], \n",
    "                    c=colors[int(label)], \n",
    "                    #marker=markers[int(label)]\n",
    "                   )\n",
    "    # Нарисовать опорный вектор\n",
    "    #if draw_sv:\n",
    "    #    sv = clf.support_vectors_\n",
    "    #    plt.scatter(sv[:, 0], sv[:, 1], c='y', marker='x')"
   ]
  },
  {
   "cell_type": "code",
   "execution_count": 106,
   "metadata": {},
   "outputs": [
    {
     "data": {
      "image/png": "[encoded data removed]",
      "text/plain": [
       "<Figure size 504x504 with 1 Axes>"
      ]
     },
     "metadata": {},
     "output_type": "display_data"
    }
   ],
   "source": [
    "plt.figure(figsize=(7, 7))\n",
    "\n",
    "clf = model2\n",
    "title = 'rbf'\n",
    "plot_hyperplane2(clf, X2, Y2, title=title)"
   ]
  },
  {
   "cell_type": "code",
   "execution_count": null,
   "metadata": {},
   "outputs": [],
   "source": []
  },
  {
   "cell_type": "markdown",
   "metadata": {},
   "source": [
    "**Задание 4.** В задаче `task2` проведите сравнение на графике различных функций ядра. (`kernel`: 'linear', 'poly', 'rbf', 'sigmoid', для полиномиального ядра 'poly' рассмотрите различные степени полинома `degree`)."
   ]
  },
  {
   "cell_type": "code",
   "execution_count": 111,
   "metadata": {},
   "outputs": [],
   "source": [
    "modelDeg2 = SVC(kernel = 'poly', degree = 2)\n",
    "modelDeg3 = SVC(kernel = 'poly', degree = 3)\n",
    "modelDeg4 = SVC(kernel = 'poly', degree = 4)\n",
    "modelDeg5 = SVC(kernel = 'poly', degree = 5)"
   ]
  },
  {
   "cell_type": "code",
   "execution_count": 112,
   "metadata": {},
   "outputs": [
    {
     "data": {
      "text/plain": [
       "SVC(degree=5, kernel='poly')"
      ]
     },
     "execution_count": 112,
     "metadata": {},
     "output_type": "execute_result"
    }
   ],
   "source": [
    "modelDeg2.fit(X2, Y2)\n",
    "modelDeg3.fit(X2, Y2)\n",
    "modelDeg4.fit(X2, Y2)\n",
    "modelDeg5.fit(X2, Y2)"
   ]
  },
  {
   "cell_type": "code",
   "execution_count": 116,
   "metadata": {},
   "outputs": [
    {
     "data": {
      "image/png": "[encoded data removed]",
      "text/plain": [
       "<Figure size 700x700 with 4 Axes>"
      ]
     },
     "metadata": {},
     "output_type": "display_data"
    }
   ],
   "source": [
    "plt.figure(figsize=(7,7), dpi=100)\n",
    "\n",
    "clfs = [modelDeg2, modelDeg3, modelDeg4, modelDeg5]\n",
    "titles = ['degree = 2', \n",
    "          'degree = 3', \n",
    "          'degree = 4', \n",
    "          'degree = 5']\n",
    "for clf, i in zip(clfs, range(len(clfs))):\n",
    "    plt.subplot(2, 2, i+1)\n",
    "    plot_hyperplane2(clf, X2, Y2, title=titles[i])"
   ]
  },
  {
   "cell_type": "markdown",
   "metadata": {},
   "source": [
    "**Задание 5.** Решите методов опорных векторов задачу `multiclass_classification` и отобразите результат на графике."
   ]
  },
  {
   "cell_type": "code",
   "execution_count": 118,
   "metadata": {},
   "outputs": [
    {
     "data": {
      "text/html": [
       "<div>\n",
       "<style scoped>\n",
       "    .dataframe tbody tr th:only-of-type {\n",
       "        vertical-align: middle;\n",
       "    }\n",
       "\n",
       "    .dataframe tbody tr th {\n",
       "        vertical-align: top;\n",
       "    }\n",
       "\n",
       "    .dataframe thead th {\n",
       "        text-align: right;\n",
       "    }\n",
       "</style>\n",
       "<table border=\"1\" class=\"dataframe\">\n",
       "  <thead>\n",
       "    <tr style=\"text-align: right;\">\n",
       "      <th></th>\n",
       "      <th>X1</th>\n",
       "      <th>X2</th>\n",
       "      <th>y</th>\n",
       "    </tr>\n",
       "  </thead>\n",
       "  <tbody>\n",
       "    <tr>\n",
       "      <th>0</th>\n",
       "      <td>0.827082</td>\n",
       "      <td>0.657831</td>\n",
       "      <td>3</td>\n",
       "    </tr>\n",
       "    <tr>\n",
       "      <th>1</th>\n",
       "      <td>0.050806</td>\n",
       "      <td>0.478433</td>\n",
       "      <td>2</td>\n",
       "    </tr>\n",
       "    <tr>\n",
       "      <th>2</th>\n",
       "      <td>0.444427</td>\n",
       "      <td>0.805732</td>\n",
       "      <td>3</td>\n",
       "    </tr>\n",
       "    <tr>\n",
       "      <th>3</th>\n",
       "      <td>0.952284</td>\n",
       "      <td>0.668506</td>\n",
       "      <td>3</td>\n",
       "    </tr>\n",
       "    <tr>\n",
       "      <th>4</th>\n",
       "      <td>0.406597</td>\n",
       "      <td>0.445482</td>\n",
       "      <td>2</td>\n",
       "    </tr>\n",
       "  </tbody>\n",
       "</table>\n",
       "</div>"
      ],
      "text/plain": [
       "         X1        X2  y\n",
       "0  0.827082  0.657831  3\n",
       "1  0.050806  0.478433  2\n",
       "2  0.444427  0.805732  3\n",
       "3  0.952284  0.668506  3\n",
       "4  0.406597  0.445482  2"
      ]
     },
     "execution_count": 118,
     "metadata": {},
     "output_type": "execute_result"
    }
   ],
   "source": [
    "df3 = pd.read_csv('multiclass_classification.csv')\n",
    "df3.head()"
   ]
  },
  {
   "cell_type": "code",
   "execution_count": 139,
   "metadata": {},
   "outputs": [],
   "source": [
    "data31 = df3[df3['y'] == 1]\n",
    "data32 = df3[df3['y'] == 2]\n",
    "data33 = df3[df3['y'] == 3]"
   ]
  },
  {
   "cell_type": "code",
   "execution_count": 140,
   "metadata": {
    "scrolled": true
   },
   "outputs": [
    {
     "data": {
      "image/png": "[encoded data removed]",
      "text/plain": [
       "<Figure size 504x504 with 1 Axes>"
      ]
     },
     "metadata": {
      "needs_background": "light"
     },
     "output_type": "display_data"
    }
   ],
   "source": [
    "fig, ax = plt.subplots()\n",
    "\n",
    "ax.scatter(data31['X1'], data31['X2'], c = 'r')\n",
    "ax.scatter(data32['X1'], data32['X2'], c = 'b')\n",
    "ax.scatter(data33['X1'], data33['X2'], c = 'g')\n",
    "\n",
    "\n",
    "fig.set_figwidth(7)   \n",
    "fig.set_figheight(7)   \n",
    "\n",
    "plt.show()"
   ]
  },
  {
   "cell_type": "code",
   "execution_count": 141,
   "metadata": {},
   "outputs": [],
   "source": [
    "array3 = df3.values\n",
    "X3 = array3[:,0:2]\n",
    "Y3 = array3[:,2]"
   ]
  },
  {
   "cell_type": "code",
   "execution_count": 142,
   "metadata": {},
   "outputs": [],
   "source": [
    "model3 = SVC(kernel = 'linear')"
   ]
  },
  {
   "cell_type": "code",
   "execution_count": 143,
   "metadata": {
    "scrolled": true
   },
   "outputs": [
    {
     "data": {
      "text/plain": [
       "SVC(kernel='linear')"
      ]
     },
     "execution_count": 143,
     "metadata": {},
     "output_type": "execute_result"
    }
   ],
   "source": [
    "model3.fit(X3, Y3)"
   ]
  },
  {
   "cell_type": "code",
   "execution_count": 144,
   "metadata": {},
   "outputs": [
    {
     "data": {
      "text/plain": [
       "array([ 27,  50,  62,  65,  80,  81,  86, 105, 121, 126, 131, 144, 165,\n",
       "       192, 194, 203, 204, 210, 213, 215, 216, 219, 232, 253, 263, 264,\n",
       "       301, 319, 325, 327, 341, 347, 368, 370, 380, 382, 388, 399, 402,\n",
       "       413, 418, 482, 491, 498, 505, 507, 525, 553, 558, 567, 571, 586,\n",
       "       606, 609, 613, 618, 634, 635, 637, 642, 645, 646, 682, 693, 702,\n",
       "       713, 732, 739, 745, 753, 760, 770, 779, 783, 815, 822, 829, 851,\n",
       "       868, 883, 888, 889, 892, 903, 917, 924, 942, 957, 963, 967, 990,\n",
       "       996,   6,  12,  23,  26,  37,  40,  41,  46,  48,  52,  53,  64,\n",
       "        66,  88,  90,  96, 100, 108, 112, 114, 147, 150, 158, 169, 176,\n",
       "       181, 184, 201, 202, 205, 207, 214, 224, 234, 242, 245, 246, 247,\n",
       "       250, 256, 266, 267, 269, 271, 274, 278, 281, 284, 291, 292, 296,\n",
       "       298, 310, 311, 317, 320, 321, 322, 335, 350, 351, 356, 357, 366,\n",
       "       367, 369, 373, 376, 385, 395, 396, 406, 408, 409, 415, 416, 427,\n",
       "       428, 434, 436, 440, 445, 446, 459, 470, 483, 488, 489, 500, 501,\n",
       "       508, 511, 517, 521, 529, 534, 544, 548, 555, 562, 573, 576, 578,\n",
       "       582, 589, 591, 598, 599, 600, 611, 615, 623, 632, 639, 650, 651,\n",
       "       652, 661, 663, 664, 666, 686, 692, 703, 704, 712, 720, 723, 724,\n",
       "       726, 734, 736, 744, 750, 758, 762, 763, 766, 772, 774, 788, 790,\n",
       "       794, 805, 812, 814, 818, 823, 824, 831, 833, 835, 844, 848, 849,\n",
       "       857, 862, 870, 873, 885, 891, 900, 901, 933, 936, 944, 945, 947,\n",
       "       952, 954, 955, 956, 958, 959, 961, 970, 978, 982, 985, 986, 987,\n",
       "         9,  10,  24,  49,  59,  61,  63,  76, 101, 120, 125, 134, 138,\n",
       "       139, 143, 157, 163, 167, 172, 195, 218, 220, 227, 254, 265, 268,\n",
       "       270, 272, 283, 287, 294, 328, 331, 334, 338, 346, 348, 355, 363,\n",
       "       371, 386, 387, 397, 398, 407, 426, 431, 437, 447, 449, 450, 453,\n",
       "       457, 464, 490, 512, 530, 551, 565, 584, 595, 601, 625, 653, 662,\n",
       "       667, 678, 681, 711, 715, 719, 722, 738, 746, 754, 765, 773, 780,\n",
       "       787, 799, 802, 803, 825, 847, 860, 861, 869, 875, 882, 896, 897,\n",
       "       899, 908, 916, 922, 966, 972, 976, 983, 989, 995])"
      ]
     },
     "execution_count": 144,
     "metadata": {},
     "output_type": "execute_result"
    }
   ],
   "source": [
    "model3.support_"
   ]
  },
  {
   "cell_type": "code",
   "execution_count": 145,
   "metadata": {
    "scrolled": false
   },
   "outputs": [],
   "source": [
    "sv3 = model3.support_vectors_"
   ]
  },
  {
   "cell_type": "code",
   "execution_count": 146,
   "metadata": {},
   "outputs": [
    {
     "data": {
      "text/plain": [
       "(0.0002206655280234, 0.9991284652706124)"
      ]
     },
     "execution_count": 146,
     "metadata": {},
     "output_type": "execute_result"
    }
   ],
   "source": [
    "min_x3 = np.min(X3[:, 0])\n",
    "max_x3 = np.max(X3[:, 0])\n",
    "min_x3, max_x3"
   ]
  },
  {
   "cell_type": "code",
   "execution_count": 170,
   "metadata": {},
   "outputs": [
    {
     "data": {
      "image/png": "[encoded data removed]",
      "text/plain": [
       "<Figure size 504x504 with 1 Axes>"
      ]
     },
     "metadata": {
      "needs_background": "light"
     },
     "output_type": "display_data"
    }
   ],
   "source": [
    "fig, ax = plt.subplots()\n",
    "\n",
    "ax.scatter(data31['X1'], data31['X2'], c = 'r')\n",
    "ax.scatter(data32['X1'], data32['X2'], c = 'b')\n",
    "ax.scatter(data33['X1'], data33['X2'], c = 'g')\n",
    "\n",
    "\n",
    "fig.set_figwidth(7)   \n",
    "fig.set_figheight(7) \n",
    "\n",
    "w = model3.coef_[0]\n",
    "a = -w[0] / w[1]\n",
    "xx = np.linspace(min_x, max_x)\n",
    "yy = a * xx - (model3.intercept_[0]) / w[1]\n",
    "plt.plot(xx, yy, 'k--')\n",
    "\n",
    "w = model3.coef_[2]\n",
    "a = -w[0] / w[1]\n",
    "xx = np.linspace(min_x, max_x)\n",
    "yy = a * xx + 0.69 - (model3.intercept_[0]) / w[1]\n",
    "plt.plot(xx, yy, 'k--')\n",
    "\n",
    "plt.show()"
   ]
  },
  {
   "cell_type": "code",
   "execution_count": 159,
   "metadata": {},
   "outputs": [
    {
     "data": {
      "text/plain": [
       "array([[ 4.32750734, -8.30319096],\n",
       "       [ 0.99046162, -5.6632925 ],\n",
       "       [-0.95428813, -9.65888175]])"
      ]
     },
     "execution_count": 159,
     "metadata": {},
     "output_type": "execute_result"
    }
   ],
   "source": [
    "model3.coef_"
   ]
  },
  {
   "cell_type": "markdown",
   "metadata": {},
   "source": [
    "## Решение задачи классификации текстов"
   ]
  },
  {
   "cell_type": "markdown",
   "metadata": {},
   "source": [
    "Возьмем в качестве примера данные новостей `fetch_20newsgroups` из sklearn и рассмотрим категории \"атеизм\" и \"космос\"."
   ]
  },
  {
   "cell_type": "code",
   "execution_count": 171,
   "metadata": {},
   "outputs": [],
   "source": [
    "from sklearn.datasets import fetch_20newsgroups"
   ]
  },
  {
   "cell_type": "code",
   "execution_count": 175,
   "metadata": {},
   "outputs": [],
   "source": [
    "data = fetch_20newsgroups(subset='all', categories=['alt.atheism', 'sci.space'])"
   ]
  },
  {
   "cell_type": "markdown",
   "metadata": {},
   "source": [
    "Массив с текстами будет находиться в поле `data.data`, номер класса &ndash; в поле `data.target`. В этой задаче для преобразования текстов будем использовать метод Tf-Idf."
   ]
  },
  {
   "cell_type": "markdown",
   "metadata": {},
   "source": [
    "**Задание 1.** Преобразуйте тексты с помощью `TfIdfVectorizer`."
   ]
  },
  {
   "cell_type": "code",
   "execution_count": 186,
   "metadata": {},
   "outputs": [],
   "source": [
    "from sklearn.feature_extraction.text import TfidfVectorizer\n",
    "from sklearn.linear_model import LogisticRegression\n",
    "import numpy as np\n",
    "import pandas as pd"
   ]
  },
  {
   "cell_type": "code",
   "execution_count": 187,
   "metadata": {},
   "outputs": [],
   "source": [
    "X = data.data\n",
    "Y = data.target"
   ]
  },
  {
   "cell_type": "code",
   "execution_count": 189,
   "metadata": {},
   "outputs": [],
   "source": [
    "tFidfVec = TfidfVectorizer()\n",
    "X = tFidfVec.fit_transform(X)"
   ]
  },
  {
   "cell_type": "markdown",
   "metadata": {},
   "source": [
    "Реализация SVM находится в классе `sklearn.svm.SVC`. Веса каждого признака у обученного классификатора хранятся в поле `coef_`."
   ]
  },
  {
   "cell_type": "markdown",
   "metadata": {},
   "source": [
    "**Задание 2.** С помощью функции `sklearn.model_selection.GridSearchCV` выберите лучший параметр `C` для SVM с линейным ядром (`kernel='linear'`) из множества $[10^{-5}, 10^{-4}, 10^{-3}, ... , 10^{3}, 10^{4}, 10^{5}]$. Кросс-валидацию выполняйте по 5 блокам с параметром `random_state=241` и\n",
    "для `SVC`, и для `KFold`. Качество оценивайте с помощью метрики `accuracy`."
   ]
  },
  {
   "cell_type": "code",
   "execution_count": 190,
   "metadata": {},
   "outputs": [],
   "source": [
    "from sklearn.model_selection import GridSearchCV, KFold"
   ]
  },
  {
   "cell_type": "code",
   "execution_count": 193,
   "metadata": {},
   "outputs": [
    {
     "data": {
      "text/plain": [
       "5"
      ]
     },
     "execution_count": 193,
     "metadata": {},
     "output_type": "execute_result"
    }
   ],
   "source": [
    "kF = KFold(n_splits=5, shuffle=True, random_state=241)\n",
    "kF.get_n_splits(X)"
   ]
  },
  {
   "cell_type": "code",
   "execution_count": 194,
   "metadata": {},
   "outputs": [],
   "source": [
    "model = SVC(kernel='linear', random_state=241)"
   ]
  },
  {
   "cell_type": "code",
   "execution_count": 221,
   "metadata": {},
   "outputs": [],
   "source": [
    "alpha_list = np.array([1e-5, 1e-4, 1e-3, 1e-2, 1e-1, 1, 1e1, 1e2, 1e3, 1e4, 1e5])\n",
    "param_grid = dict(C = alpha_list)"
   ]
  },
  {
   "cell_type": "code",
   "execution_count": 222,
   "metadata": {},
   "outputs": [],
   "source": [
    "grid = GridSearchCV(model, param_grid, scoring='accuracy')"
   ]
  },
  {
   "cell_type": "code",
   "execution_count": 223,
   "metadata": {},
   "outputs": [
    {
     "data": {
      "text/plain": [
       "GridSearchCV(estimator=SVC(kernel='linear', random_state=241),\n",
       "             param_grid={'C': array([1.e-05, 1.e-04, 1.e-03, 1.e-02, 1.e-01, 1.e+00, 1.e+01, 1.e+02,\n",
       "       1.e+03, 1.e+04, 1.e+05])},\n",
       "             scoring='accuracy')"
      ]
     },
     "execution_count": 223,
     "metadata": {},
     "output_type": "execute_result"
    }
   ],
   "source": [
    "grid.fit(X, Y)"
   ]
  },
  {
   "cell_type": "code",
   "execution_count": 224,
   "metadata": {},
   "outputs": [
    {
     "name": "stdout",
     "output_type": "stream",
     "text": [
      "Наилучший критерий качества = 0.992723346321769 \n",
      "Соответствующий параметр C = 10.0\n"
     ]
    }
   ],
   "source": [
    "print('Наилучший критерий качества =', grid.best_score_, '\\nСоответствующий параметр C =', grid.best_estimator_.C)"
   ]
  },
  {
   "cell_type": "code",
   "execution_count": null,
   "metadata": {},
   "outputs": [],
   "source": []
  },
  {
   "cell_type": "code",
   "execution_count": null,
   "metadata": {},
   "outputs": [],
   "source": []
  },
  {
   "cell_type": "markdown",
   "metadata": {},
   "source": [
    "**Задание 3.** Обучите SVM на всей выборке с лучшим параметром `C`. Найдите 10 слов с наибольшим по модулю весом."
   ]
  },
  {
   "cell_type": "code",
   "execution_count": 229,
   "metadata": {},
   "outputs": [],
   "source": [
    "model = SVC(C=10, kernel='linear', random_state=241)"
   ]
  },
  {
   "cell_type": "code",
   "execution_count": 230,
   "metadata": {},
   "outputs": [
    {
     "data": {
      "text/plain": [
       "SVC(C=10, kernel='linear', random_state=241)"
      ]
     },
     "execution_count": 230,
     "metadata": {},
     "output_type": "execute_result"
    }
   ],
   "source": [
    "model.fit(X, Y)"
   ]
  },
  {
   "cell_type": "code",
   "execution_count": 231,
   "metadata": {},
   "outputs": [],
   "source": [
    "words = np.array(tFidfVec.get_feature_names())"
   ]
  },
  {
   "cell_type": "code",
   "execution_count": 238,
   "metadata": {},
   "outputs": [
    {
     "data": {
      "text/plain": [
       "array(['eureca', 'canadarm', 'atlantis', ..., 'ac', 'able', '11'],\n",
       "      dtype='<U80')"
      ]
     },
     "execution_count": 238,
     "metadata": {},
     "output_type": "execute_result"
    }
   ],
   "source": [
    "words[model.coef_.indices]"
   ]
  },
  {
   "cell_type": "code",
   "execution_count": 239,
   "metadata": {},
   "outputs": [],
   "source": [
    "wordW = pd.Series(model.coef_.data, index = words[model.coef_.indices], name='weight')"
   ]
  },
  {
   "cell_type": "code",
   "execution_count": 241,
   "metadata": {},
   "outputs": [
    {
     "data": {
      "text/plain": [
       "space       2.720304\n",
       "god         1.971924\n",
       "atheism     1.299935\n",
       "atheists    1.257272\n",
       "moon        1.248378\n",
       "sky         1.195954\n",
       "religion    1.155796\n",
       "bible       1.126725\n",
       "keith       1.107114\n",
       "nick        1.089924\n",
       "Name: weight, dtype: float64"
      ]
     },
     "execution_count": 241,
     "metadata": {},
     "output_type": "execute_result"
    }
   ],
   "source": [
    "wordW.abs().sort_values(ascending=False).head(10)"
   ]
  },
  {
   "cell_type": "code",
   "execution_count": null,
   "metadata": {},
   "outputs": [],
   "source": []
  }
 ],
 "metadata": {
  "kernelspec": {
   "display_name": "Python 3",
   "language": "python",
   "name": "python3"
  },
  "language_info": {
   "codemirror_mode": {
    "name": "ipython",
    "version": 3
   },
   "file_extension": ".py",
   "mimetype": "text/x-python",
   "name": "python",
   "nbconvert_exporter": "python",
   "pygments_lexer": "ipython3",
   "version": "3.9.2"
  }
 },
 "nbformat": 4,
 "nbformat_minor": 4
}
