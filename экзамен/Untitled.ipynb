{
 "cells": [
  {
   "cell_type": "code",
   "execution_count": 60,
   "id": "lesbian-nashville",
   "metadata": {},
   "outputs": [],
   "source": [
    "import pandas as pd\n",
    "import torch\n",
    "import torchvision\n",
    "\n",
    "import torch.nn as nn\n",
    "from torchvision import transforms\n",
    "from torchvision.transforms import ToTensor\n",
    "from torchvision.io import read_image\n",
    "import matplotlib.pyplot as plt\n",
    "from torch.utils.data import DataLoader, Dataset\n",
    "\n",
    "from PIL import Image\n",
    "\n",
    "import os"
   ]
  },
  {
   "cell_type": "code",
   "execution_count": 36,
   "id": "embedded-helicopter",
   "metadata": {},
   "outputs": [],
   "source": [
    "transform = transforms.Compose([transforms.Resize((64, 64)),\n",
    "                                transforms.ToTensor()])\n",
    "train_dir = 'train'"
   ]
  },
  {
   "cell_type": "code",
   "execution_count": 96,
   "id": "characteristic-ferry",
   "metadata": {},
   "outputs": [],
   "source": [
    "class ReadData(Dataset):\n",
    "    def __init__(self, imager_dir, transoform):\n",
    "        self.imager_dir = imager_dir\n",
    "        self.read_dir()\n",
    "        self.all_class = {'apple' : 0,\n",
    "                         'envelope' : 1,\n",
    "                         'house' : 2,\n",
    "                         'icecream' : 3,\n",
    "                         'ladder' : 4,\n",
    "                         'tshirt' : 5}\n",
    "        self.transform = transform\n",
    "    \n",
    "    def read_dir(self):\n",
    "        directory = os.listdir(self.imager_dir)\n",
    "        b = [[]]*len(directory)\n",
    "        dictionary = dict(zip(directory,b))\n",
    "\n",
    "        allImages = []\n",
    "        for i in dictionary.keys():\n",
    "            images = os.listdir(os.path.join(self.imager_dir, i))\n",
    "            fullPathes = [os.path.join(self.imager_dir, i, j) for j in images]\n",
    "            allImages += fullPathes\n",
    "            dictionary[i] = fullPathes\n",
    "        \n",
    "        self.pathAllImages = allImages\n",
    "\n",
    "    def __len__(self):\n",
    "        return len(self.pathAllImages)\n",
    "\n",
    "    def __getitem__(self, idx):\n",
    "        image_path = self.pathAllImages[idx]\n",
    "        image_pil = Image.open(image_path)\n",
    "        image_pil = image_pil.convert('L')\n",
    "        label = ''.join([i for i in image_path.split('\\\\')[-1].split('.')[0] if not i.isdigit()]).lower()\n",
    "        if self.transform:\n",
    "            image = self.transform(image_pil)\n",
    "        return image, self.all_class[label]"
   ]
  },
  {
   "cell_type": "code",
   "execution_count": 104,
   "id": "insured-movement",
   "metadata": {},
   "outputs": [
    {
     "data": {
      "text/plain": [
       "1"
      ]
     },
     "execution_count": 104,
     "metadata": {},
     "output_type": "execute_result"
    }
   ],
   "source": [
    "train_data = ReadData(train_dir, transform)\n",
    "data, y = train_data[55]\n",
    "y"
   ]
  },
  {
   "cell_type": "code",
   "execution_count": 98,
   "id": "based-minute",
   "metadata": {},
   "outputs": [],
   "source": [
    "class Noiro(nn.Module):\n",
    "    def __init__(self, num_classes):\n",
    "        super(Noiro, self).__init__()\n",
    "        self.conv_layer1 = nn.Conv2d(in_channels=1, out_channels=12, kernel_size=5)\n",
    "        self.conv_layer2 = nn.Conv2d(in_channels=12, out_channels=36, kernel_size=3)\n",
    "        self.conv_layer3 = nn.Conv2d(in_channels=36, out_channels=36, kernel_size=5)\n",
    "        self.conv_layer4 = nn.Conv2d(in_channels=36, out_channels=64, kernel_size=5)\n",
    "        \n",
    "        self.pooling_layer1 = nn.MaxPool2d(kernel_size=2)\n",
    "        self.pooling_layer2 = nn.MaxPool2d(kernel_size=2)\n",
    "        self.pooling_layer3 = nn.MaxPool2d(kernel_size=2)\n",
    "        \n",
    "        self.linear_layer1 = nn.Linear(in_features=64, out_features=32)\n",
    "        self.linear_layer2 = nn.Linear(in_features=32, out_features=6)\n",
    "        \n",
    "        self.relu = nn.ReLU()\n",
    "        self.soft_max = nn.Softmax()\n",
    "        \n",
    "    def forward(self, inputs):\n",
    "        output_1 = self.relu(self.conv_layer1(inputs))\n",
    "        output_2 = self.pooling_layer1(output_1)\n",
    "        output_3 = self.relu(self.conv_layer2(output_2))\n",
    "        output_4 = self.pooling_layer2(output_3)\n",
    "        output_5 = self.relu(self.conv_layer3(output_4))\n",
    "        output_6 = self.pooling_layer3(output_5)\n",
    "        output_7 = self.relu(self.conv_layer4(output_6))\n",
    "        \n",
    "        output_8 = torch.flatten(output_7, 1)\n",
    "        \n",
    "        output_9 = self.relu(self.linear_layer1(output_8))\n",
    "        output = self.soft_max(self.linear_layer2(output_9))\n",
    "        \n",
    "        return output"
   ]
  },
  {
   "cell_type": "code",
   "execution_count": 99,
   "id": "missing-porter",
   "metadata": {},
   "outputs": [
    {
     "name": "stdout",
     "output_type": "stream",
     "text": [
      "Noiro(\n",
      "  (conv_layer1): Conv2d(1, 12, kernel_size=(5, 5), stride=(1, 1))\n",
      "  (conv_layer2): Conv2d(12, 36, kernel_size=(3, 3), stride=(1, 1))\n",
      "  (conv_layer3): Conv2d(36, 36, kernel_size=(5, 5), stride=(1, 1))\n",
      "  (conv_layer4): Conv2d(36, 64, kernel_size=(5, 5), stride=(1, 1))\n",
      "  (pooling_layer1): MaxPool2d(kernel_size=2, stride=2, padding=0, dilation=1, ceil_mode=False)\n",
      "  (pooling_layer2): MaxPool2d(kernel_size=2, stride=2, padding=0, dilation=1, ceil_mode=False)\n",
      "  (pooling_layer3): MaxPool2d(kernel_size=2, stride=2, padding=0, dilation=1, ceil_mode=False)\n",
      "  (linear_layer1): Linear(in_features=64, out_features=32, bias=True)\n",
      "  (linear_layer2): Linear(in_features=32, out_features=6, bias=True)\n",
      "  (relu): ReLU()\n",
      "  (soft_max): Softmax(dim=None)\n",
      ")\n"
     ]
    }
   ],
   "source": [
    "model = Noiro(6)\n",
    "print(model)"
   ]
  },
  {
   "cell_type": "code",
   "execution_count": 100,
   "id": "regional-berry",
   "metadata": {},
   "outputs": [],
   "source": [
    "criterion = nn.CrossEntropyLoss()\n",
    "optimizer = torch.optim.Adam(model.parameters(), lr=0.001)"
   ]
  },
  {
   "cell_type": "code",
   "execution_count": 101,
   "id": "acquired-damage",
   "metadata": {},
   "outputs": [],
   "source": [
    "train_data_loader = DataLoader(\n",
    "    dataset=train_data,\n",
    "    shuffle=True)\n",
    "\n",
    "test_data_loader = DataLoader(\n",
    "    dataset=ReadData('Val', transform),\n",
    "    shuffle=True)"
   ]
  },
  {
   "cell_type": "code",
   "execution_count": 102,
   "id": "capital-prague",
   "metadata": {},
   "outputs": [
    {
     "name": "stderr",
     "output_type": "stream",
     "text": [
      "<ipython-input-98-ef093bff9db8>:31: UserWarning: Implicit dimension choice for softmax has been deprecated. Change the call to include dim=X as an argument.\n",
      "  output = self.soft_max(self.linear_layer2(output_9))\n"
     ]
    },
    {
     "name": "stdout",
     "output_type": "stream",
     "text": [
      "Epoch [1/5], Step [60/180], Loss: 1.7610\n",
      "Epoch [1/5], Step [120/180], Loss: 1.8734\n",
      "Epoch [1/5], Step [180/180], Loss: 1.7367\n",
      "Epoch [2/5], Step [60/180], Loss: 1.7766\n",
      "Epoch [2/5], Step [120/180], Loss: 1.7833\n",
      "Epoch [2/5], Step [180/180], Loss: 1.8246\n",
      "Epoch [3/5], Step [60/180], Loss: 1.8417\n",
      "Epoch [3/5], Step [120/180], Loss: 1.7258\n",
      "Epoch [3/5], Step [180/180], Loss: 1.6947\n",
      "Epoch [4/5], Step [60/180], Loss: 1.9825\n",
      "Epoch [4/5], Step [120/180], Loss: 1.0493\n",
      "Epoch [4/5], Step [180/180], Loss: 2.0101\n",
      "Epoch [5/5], Step [60/180], Loss: 1.0436\n",
      "Epoch [5/5], Step [120/180], Loss: 1.8242\n",
      "Epoch [5/5], Step [180/180], Loss: 1.0447\n"
     ]
    }
   ],
   "source": [
    "torch.manual_seed(0)\n",
    "\n",
    "total_step = len(train_data_loader)\n",
    "for epoch in range(5):\n",
    "    for i, (images, labels) in enumerate(train_data_loader): \n",
    "        outputs = model(images)\n",
    "        loss = criterion(outputs, labels)\n",
    "\n",
    "        optimizer.zero_grad()\n",
    "        loss.backward()\n",
    "        optimizer.step()\n",
    "        \n",
    "        if (i+1) % 60 == 0:\n",
    "            print ('Epoch [{}/{}], Step [{}/{}], Loss: {:.4f}' \n",
    "                   .format(epoch+1, 5, i+1, total_step, loss.item()))"
   ]
  },
  {
   "cell_type": "code",
   "execution_count": 103,
   "id": "prepared-classics",
   "metadata": {},
   "outputs": [
    {
     "name": "stdout",
     "output_type": "stream",
     "text": [
      "Accuracy: 90.0 %\n"
     ]
    },
    {
     "name": "stderr",
     "output_type": "stream",
     "text": [
      "<ipython-input-98-ef093bff9db8>:31: UserWarning: Implicit dimension choice for softmax has been deprecated. Change the call to include dim=X as an argument.\n",
      "  output = self.soft_max(self.linear_layer2(output_9))\n"
     ]
    }
   ],
   "source": [
    "with torch.no_grad():\n",
    "    correct = 0\n",
    "    total = 0\n",
    "    for images, labels in test_data_loader:\n",
    "        outputs = model(images)\n",
    "        _, predicted = torch.max(outputs.data, 1)\n",
    "        total += labels.size(0)\n",
    "        correct += (predicted == labels).sum().item()\n",
    "\n",
    "    print('Accuracy: {} %'.format(100 * correct / total))"
   ]
  },
  {
   "cell_type": "code",
   "execution_count": null,
   "id": "incident-inventory",
   "metadata": {},
   "outputs": [],
   "source": []
  },
  {
   "cell_type": "code",
   "execution_count": null,
   "id": "brief-arthur",
   "metadata": {},
   "outputs": [],
   "source": []
  }
 ],
 "metadata": {
  "kernelspec": {
   "display_name": "Python 3",
   "language": "python",
   "name": "python3"
  },
  "language_info": {
   "codemirror_mode": {
    "name": "ipython",
    "version": 3
   },
   "file_extension": ".py",
   "mimetype": "text/x-python",
   "name": "python",
   "nbconvert_exporter": "python",
   "pygments_lexer": "ipython3",
   "version": "3.9.2"
  }
 },
 "nbformat": 4,
 "nbformat_minor": 5
}
