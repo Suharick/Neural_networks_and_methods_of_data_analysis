{
 "cells": [
  {
   "cell_type": "code",
   "execution_count": 45,
   "id": "capable-diary",
   "metadata": {},
   "outputs": [],
   "source": [
    "import numpy as np\n",
    "import pandas as pd\n",
    "from functools import reduce "
   ]
  },
  {
   "cell_type": "code",
   "execution_count": 3,
   "id": "sound-decrease",
   "metadata": {},
   "outputs": [
    {
     "data": {
      "text/html": [
       "<div>\n",
       "<style scoped>\n",
       "    .dataframe tbody tr th:only-of-type {\n",
       "        vertical-align: middle;\n",
       "    }\n",
       "\n",
       "    .dataframe tbody tr th {\n",
       "        vertical-align: top;\n",
       "    }\n",
       "\n",
       "    .dataframe thead th {\n",
       "        text-align: right;\n",
       "    }\n",
       "</style>\n",
       "<table border=\"1\" class=\"dataframe\">\n",
       "  <thead>\n",
       "    <tr style=\"text-align: right;\">\n",
       "      <th></th>\n",
       "      <th>Outlook</th>\n",
       "      <th>Temperature</th>\n",
       "      <th>Humidity</th>\n",
       "      <th>Wind</th>\n",
       "      <th>Play Golf</th>\n",
       "    </tr>\n",
       "  </thead>\n",
       "  <tbody>\n",
       "    <tr>\n",
       "      <th>0</th>\n",
       "      <td>Rainy</td>\n",
       "      <td>Hot</td>\n",
       "      <td>High</td>\n",
       "      <td>Weak</td>\n",
       "      <td>No</td>\n",
       "    </tr>\n",
       "    <tr>\n",
       "      <th>1</th>\n",
       "      <td>Rainy</td>\n",
       "      <td>Hot</td>\n",
       "      <td>High</td>\n",
       "      <td>Strong</td>\n",
       "      <td>No</td>\n",
       "    </tr>\n",
       "    <tr>\n",
       "      <th>2</th>\n",
       "      <td>Overcast</td>\n",
       "      <td>Hot</td>\n",
       "      <td>High</td>\n",
       "      <td>Weak</td>\n",
       "      <td>Yes</td>\n",
       "    </tr>\n",
       "    <tr>\n",
       "      <th>3</th>\n",
       "      <td>Sunny</td>\n",
       "      <td>Mild</td>\n",
       "      <td>High</td>\n",
       "      <td>Weak</td>\n",
       "      <td>Yes</td>\n",
       "    </tr>\n",
       "    <tr>\n",
       "      <th>4</th>\n",
       "      <td>Sunny</td>\n",
       "      <td>Cool</td>\n",
       "      <td>Normal</td>\n",
       "      <td>Weak</td>\n",
       "      <td>Yes</td>\n",
       "    </tr>\n",
       "  </tbody>\n",
       "</table>\n",
       "</div>"
      ],
      "text/plain": [
       "    Outlook Temperature Humidity    Wind Play Golf\n",
       "0     Rainy         Hot     High    Weak        No\n",
       "1     Rainy         Hot     High  Strong        No\n",
       "2  Overcast         Hot     High    Weak       Yes\n",
       "3     Sunny        Mild     High    Weak       Yes\n",
       "4     Sunny        Cool   Normal    Weak       Yes"
      ]
     },
     "execution_count": 3,
     "metadata": {},
     "output_type": "execute_result"
    }
   ],
   "source": [
    "data = pd.read_csv('data/golf_binary.csv')\n",
    "data.head()"
   ]
  },
  {
   "cell_type": "markdown",
   "id": "pregnant-theorem",
   "metadata": {},
   "source": [
    "Приведем все текстовые показатели к бинарному виду"
   ]
  },
  {
   "cell_type": "code",
   "execution_count": 7,
   "id": "accepting-reach",
   "metadata": {},
   "outputs": [
    {
     "data": {
      "text/html": [
       "<div>\n",
       "<style scoped>\n",
       "    .dataframe tbody tr th:only-of-type {\n",
       "        vertical-align: middle;\n",
       "    }\n",
       "\n",
       "    .dataframe tbody tr th {\n",
       "        vertical-align: top;\n",
       "    }\n",
       "\n",
       "    .dataframe thead th {\n",
       "        text-align: right;\n",
       "    }\n",
       "</style>\n",
       "<table border=\"1\" class=\"dataframe\">\n",
       "  <thead>\n",
       "    <tr style=\"text-align: right;\">\n",
       "      <th></th>\n",
       "      <th>Rainy</th>\n",
       "      <th>Overcast</th>\n",
       "      <th>Sunny</th>\n",
       "      <th>Hot</th>\n",
       "      <th>Mild</th>\n",
       "      <th>Cool</th>\n",
       "      <th>Humidity</th>\n",
       "      <th>Wind</th>\n",
       "      <th>Play Golf</th>\n",
       "    </tr>\n",
       "  </thead>\n",
       "  <tbody>\n",
       "  </tbody>\n",
       "</table>\n",
       "</div>"
      ],
      "text/plain": [
       "Empty DataFrame\n",
       "Columns: [Rainy, Overcast, Sunny, Hot, Mild, Cool, Humidity, Wind, Play Golf]\n",
       "Index: []"
      ]
     },
     "execution_count": 7,
     "metadata": {},
     "output_type": "execute_result"
    }
   ],
   "source": [
    "name = {'Rainy': [], 'Overcast': [], 'Sunny': [], 'Hot': [], 'Mild': [], 'Cool': [], 'Humidity': [], 'Wind': [], 'Play Golf': []}\n",
    "df = pd.DataFrame(name)\n",
    "df"
   ]
  },
  {
   "cell_type": "code",
   "execution_count": 12,
   "id": "arabic-consensus",
   "metadata": {},
   "outputs": [],
   "source": [
    "df['Rainy'] = data['Outlook'].replace({'Rainy' : 1, 'Overcast' : 0, 'Sunny' : 0})\n",
    "df['Overcast'] = data['Outlook'].replace({'Rainy' : 0, 'Overcast' : 1, 'Sunny' : 0})\n",
    "df['Sunny'] = data['Outlook'].replace({'Rainy' : 0, 'Overcast' : 0, 'Sunny' : 1})\n",
    "\n",
    "df['Hot'] = data['Temperature'].replace({'Hot' : 1, 'Mild' : 0, 'Cool' : 0})\n",
    "df['Mild'] = data['Temperature'].replace({'Hot' : 0, 'Mild' : 1, 'Cool' : 0})\n",
    "df['Cool'] = data['Temperature'].replace({'Hot' : 0, 'Mild' : 0, 'Cool' : 1})\n",
    "\n",
    "df['Humidity'] = data['Humidity'].replace({'High' : 0, 'Normal' : 1})\n",
    "\n",
    "df['Wind'] = data['Wind'].replace({'Weak' : 0, 'Strong' : 1})\n",
    "\n",
    "df['Play Golf'] = data['Play Golf'].replace({'No' : 0, 'Yes' : 1})"
   ]
  },
  {
   "cell_type": "code",
   "execution_count": 13,
   "id": "aboriginal-pioneer",
   "metadata": {},
   "outputs": [
    {
     "data": {
      "text/html": [
       "<div>\n",
       "<style scoped>\n",
       "    .dataframe tbody tr th:only-of-type {\n",
       "        vertical-align: middle;\n",
       "    }\n",
       "\n",
       "    .dataframe tbody tr th {\n",
       "        vertical-align: top;\n",
       "    }\n",
       "\n",
       "    .dataframe thead th {\n",
       "        text-align: right;\n",
       "    }\n",
       "</style>\n",
       "<table border=\"1\" class=\"dataframe\">\n",
       "  <thead>\n",
       "    <tr style=\"text-align: right;\">\n",
       "      <th></th>\n",
       "      <th>Rainy</th>\n",
       "      <th>Overcast</th>\n",
       "      <th>Sunny</th>\n",
       "      <th>Hot</th>\n",
       "      <th>Mild</th>\n",
       "      <th>Cool</th>\n",
       "      <th>Humidity</th>\n",
       "      <th>Wind</th>\n",
       "      <th>Play Golf</th>\n",
       "    </tr>\n",
       "  </thead>\n",
       "  <tbody>\n",
       "    <tr>\n",
       "      <th>0</th>\n",
       "      <td>1</td>\n",
       "      <td>0</td>\n",
       "      <td>0</td>\n",
       "      <td>1</td>\n",
       "      <td>0</td>\n",
       "      <td>0</td>\n",
       "      <td>0</td>\n",
       "      <td>0</td>\n",
       "      <td>0</td>\n",
       "    </tr>\n",
       "    <tr>\n",
       "      <th>1</th>\n",
       "      <td>1</td>\n",
       "      <td>0</td>\n",
       "      <td>0</td>\n",
       "      <td>1</td>\n",
       "      <td>0</td>\n",
       "      <td>0</td>\n",
       "      <td>0</td>\n",
       "      <td>1</td>\n",
       "      <td>0</td>\n",
       "    </tr>\n",
       "    <tr>\n",
       "      <th>2</th>\n",
       "      <td>0</td>\n",
       "      <td>1</td>\n",
       "      <td>0</td>\n",
       "      <td>1</td>\n",
       "      <td>0</td>\n",
       "      <td>0</td>\n",
       "      <td>0</td>\n",
       "      <td>0</td>\n",
       "      <td>1</td>\n",
       "    </tr>\n",
       "    <tr>\n",
       "      <th>3</th>\n",
       "      <td>0</td>\n",
       "      <td>0</td>\n",
       "      <td>1</td>\n",
       "      <td>0</td>\n",
       "      <td>1</td>\n",
       "      <td>0</td>\n",
       "      <td>0</td>\n",
       "      <td>0</td>\n",
       "      <td>1</td>\n",
       "    </tr>\n",
       "    <tr>\n",
       "      <th>4</th>\n",
       "      <td>0</td>\n",
       "      <td>0</td>\n",
       "      <td>1</td>\n",
       "      <td>0</td>\n",
       "      <td>0</td>\n",
       "      <td>1</td>\n",
       "      <td>1</td>\n",
       "      <td>0</td>\n",
       "      <td>1</td>\n",
       "    </tr>\n",
       "  </tbody>\n",
       "</table>\n",
       "</div>"
      ],
      "text/plain": [
       "   Rainy  Overcast  Sunny  Hot  Mild  Cool  Humidity  Wind  Play Golf\n",
       "0      1         0      0    1     0     0         0     0          0\n",
       "1      1         0      0    1     0     0         0     1          0\n",
       "2      0         1      0    1     0     0         0     0          1\n",
       "3      0         0      1    0     1     0         0     0          1\n",
       "4      0         0      1    0     0     1         1     0          1"
      ]
     },
     "execution_count": 13,
     "metadata": {},
     "output_type": "execute_result"
    }
   ],
   "source": [
    "df.head()"
   ]
  },
  {
   "cell_type": "code",
   "execution_count": 14,
   "id": "durable-comment",
   "metadata": {},
   "outputs": [],
   "source": [
    "array = df.values\n",
    "X = array[:,0:8]\n",
    "y = array[:,8]"
   ]
  },
  {
   "cell_type": "markdown",
   "id": "european-basics",
   "metadata": {},
   "source": [
    "Применим формулу условной вероятности"
   ]
  },
  {
   "cell_type": "code",
   "execution_count": 56,
   "id": "stainless-ghana",
   "metadata": {
    "scrolled": true
   },
   "outputs": [],
   "source": [
    "def find_conditional_probability(x, y, k):\n",
    "    conProb = []\n",
    "    l = len(y)\n",
    "    countX = len(x[0])\n",
    "    xList = x[k]\n",
    "    count = 0\n",
    "        \n",
    "    # числитель\n",
    "    if y[k] == 1:\n",
    "        s = sum(y) # кол-во y=1\n",
    "    else:\n",
    "        s = l - sum(y) # кол-во y=0\n",
    "        \n",
    "    pY = s/l\n",
    "      \n",
    "    for i in range(countX):\n",
    "        for j in range(l):\n",
    "            if X.transpose()[i, j] == X[k, i] and y[j] == y[k]:\n",
    "                count += 1\n",
    "        conProb.append(count/s)\n",
    "        \n",
    "    numerator = pY * reduce((lambda x, y: x * y), conProb) # числитель\n",
    "    \n",
    "    # знаменатель\n",
    "    if y[k] == 1:\n",
    "        newY = 0\n",
    "    else:\n",
    "        newY = 1\n",
    "        \n",
    "    newS = 1 - s\n",
    "    newconProb = []\n",
    "    count = 0\n",
    "    for i in range(countX):\n",
    "        for j in range(l):\n",
    "            if X.transpose()[i, j] == X[k, i] and y[j] == newY:\n",
    "                count += 1\n",
    "    newconProb.append(count/newS)\n",
    "    \n",
    "        \n",
    "    denominator = reduce((lambda x, y: x * y), conProb) + reduce((lambda x, y: x * y), newconProb) # знаменатель\n",
    "    \n",
    "    return numerator/denominator\n",
    "        "
   ]
  },
  {
   "cell_type": "code",
   "execution_count": 57,
   "id": "checked-toyota",
   "metadata": {},
   "outputs": [
    {
     "data": {
      "text/plain": [
       "0.3589330494610559"
      ]
     },
     "execution_count": 57,
     "metadata": {},
     "output_type": "execute_result"
    }
   ],
   "source": [
    "find_conditional_probability(X, y, 0)"
   ]
  },
  {
   "cell_type": "code",
   "execution_count": null,
   "id": "outside-session",
   "metadata": {},
   "outputs": [],
   "source": []
  },
  {
   "cell_type": "code",
   "execution_count": null,
   "id": "partial-railway",
   "metadata": {},
   "outputs": [],
   "source": []
  },
  {
   "cell_type": "code",
   "execution_count": null,
   "id": "associate-devil",
   "metadata": {},
   "outputs": [],
   "source": []
  },
  {
   "cell_type": "code",
   "execution_count": null,
   "id": "documentary-botswana",
   "metadata": {},
   "outputs": [],
   "source": []
  },
  {
   "cell_type": "code",
   "execution_count": null,
   "id": "black-carroll",
   "metadata": {},
   "outputs": [],
   "source": []
  }
 ],
 "metadata": {
  "kernelspec": {
   "display_name": "Python 3",
   "language": "python",
   "name": "python3"
  },
  "language_info": {
   "codemirror_mode": {
    "name": "ipython",
    "version": 3
   },
   "file_extension": ".py",
   "mimetype": "text/x-python",
   "name": "python",
   "nbconvert_exporter": "python",
   "pygments_lexer": "ipython3",
   "version": "3.9.2"
  }
 },
 "nbformat": 4,
 "nbformat_minor": 5
}
