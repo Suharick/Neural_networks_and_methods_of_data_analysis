{
 "cells": [
  {
   "cell_type": "code",
   "execution_count": 69,
   "metadata": {
    "id": "9QCOWB--TNfV"
   },
   "outputs": [],
   "source": [
    "import torch\n",
    "import torchvision\n",
    "\n",
    "import torch.nn as nn\n",
    "from torchvision import transforms"
   ]
  },
  {
   "cell_type": "code",
   "execution_count": 79,
   "metadata": {
    "id": "GEENhyB9TNfa"
   },
   "outputs": [],
   "source": [
    "transform = transforms.Compose([transforms.Resize((32, 32)),\n",
    "                                transforms.ToTensor()])\n",
    "\n",
    "train_dataset = torchvision.datasets.MNIST(root='../../data', \n",
    "                                           train=True, \n",
    "                                           transform=transform,  \n",
    "                                           download=True)\n",
    "\n",
    "test_dataset = torchvision.datasets.MNIST(root='../../data', \n",
    "                                          train=False, \n",
    "                                          transform=transform)\n",
    "\n",
    "train_loader = torch.utils.data.DataLoader(dataset=train_dataset, \n",
    "                                           batch_size=100, \n",
    "                                           shuffle=True)\n",
    "\n",
    "test_loader = torch.utils.data.DataLoader(dataset=test_dataset, \n",
    "                                          batch_size=100, \n",
    "                                          shuffle=False)"
   ]
  },
  {
   "cell_type": "markdown",
   "metadata": {
    "id": "4dyYp-nFTNfb"
   },
   "source": [
    "<img src=\"https://www.researchgate.net/profile/Vladimir-Golovko-5/publication/313808170/figure/fig3/AS:552880910618630@1508828489678/Architecture-of-LeNet-5.png\">"
   ]
  },
  {
   "cell_type": "markdown",
   "metadata": {
    "id": "l-AKAqKUTNfe"
   },
   "source": [
    "## LeNet-5 на PyTorch"
   ]
  },
  {
   "cell_type": "code",
   "execution_count": 3,
   "metadata": {
    "id": "kGkYhv1BTNfe"
   },
   "outputs": [],
   "source": [
    "class LeNet5(nn.Module):\n",
    "    def __init__(self, num_classes):\n",
    "        super(LeNet5, self).__init__()\n",
    "        self.conv_layer1 = nn.Conv2d(in_channels=1, out_channels=6, kernel_size=5, stride=1)\n",
    "        self.conv_layer2 = nn.Conv2d(in_channels=6, out_channels=16, kernel_size=5, stride=1)\n",
    "        self.conv_layer3 = nn.Conv2d(in_channels=16, out_channels=120, kernel_size=5, stride=1)\n",
    "        self.pooling_layer1 = nn.AvgPool2d(kernel_size=2)\n",
    "        self.pooling_layer2 = nn.AvgPool2d(kernel_size=2)\n",
    "        \n",
    "        self.linear_layer1 = nn.Linear(in_features=120, out_features=84)\n",
    "        self.linear_layer2 = nn.Linear(in_features=84, out_features=num_classes)\n",
    "        \n",
    "        self.tanh = nn.Tanh()\n",
    "        \n",
    "    def forward(self, inputs):\n",
    "        output_1 = self.tanh(self.conv_layer1(inputs))\n",
    "        output_2 = self.pooling_layer1(output_1)\n",
    "        output_3 = self.tanh(self.conv_layer2(output_2))\n",
    "        output_4 = self.pooling_layer2(output_3)\n",
    "        output_5 = self.tanh(self.conv_layer3(output_4))\n",
    "        output_6 = torch.flatten(output_5, 1)\n",
    "        \n",
    "        output_7 = self.tanh(self.linear_layer1(output_6))\n",
    "        output = self.linear_layer2(output_7)\n",
    "        \n",
    "        return output"
   ]
  },
  {
   "cell_type": "code",
   "execution_count": 4,
   "metadata": {
    "colab": {
     "base_uri": "https://localhost:8080/"
    },
    "id": "qGELfqBETNfg",
    "outputId": "7fcfec56-a9f3-48ac-f0ef-fa2dd77a0039"
   },
   "outputs": [
    {
     "name": "stdout",
     "output_type": "stream",
     "text": [
      "LeNet5(\n",
      "  (conv_layer1): Conv2d(1, 6, kernel_size=(5, 5), stride=(1, 1))\n",
      "  (conv_layer2): Conv2d(6, 16, kernel_size=(5, 5), stride=(1, 1))\n",
      "  (conv_layer3): Conv2d(16, 120, kernel_size=(5, 5), stride=(1, 1))\n",
      "  (pooling_layer1): AvgPool2d(kernel_size=2, stride=2, padding=0)\n",
      "  (pooling_layer2): AvgPool2d(kernel_size=2, stride=2, padding=0)\n",
      "  (linear_layer1): Linear(in_features=120, out_features=84, bias=True)\n",
      "  (linear_layer2): Linear(in_features=84, out_features=10, bias=True)\n",
      "  (tanh): Tanh()\n",
      ")\n"
     ]
    }
   ],
   "source": [
    "model = LeNet5(10)\n",
    "print(model)"
   ]
  },
  {
   "cell_type": "code",
   "execution_count": 5,
   "metadata": {
    "id": "DLXcFzEdTNfh"
   },
   "outputs": [],
   "source": [
    "criterion = nn.CrossEntropyLoss()\n",
    "optimizer = torch.optim.Adam(model.parameters(), lr=0.001)"
   ]
  },
  {
   "cell_type": "code",
   "execution_count": 6,
   "metadata": {
    "colab": {
     "base_uri": "https://localhost:8080/"
    },
    "id": "TZTXauPvTNfh",
    "outputId": "f6681ec0-0d0c-4b34-c069-cbea9c4cd716"
   },
   "outputs": [
    {
     "name": "stdout",
     "output_type": "stream",
     "text": [
      "Epoch [1/5], Step [100/600], Loss: 0.4823\n",
      "Epoch [1/5], Step [200/600], Loss: 0.2588\n",
      "Epoch [1/5], Step [300/600], Loss: 0.2105\n",
      "Epoch [1/5], Step [400/600], Loss: 0.2160\n",
      "Epoch [1/5], Step [500/600], Loss: 0.0682\n",
      "Epoch [1/5], Step [600/600], Loss: 0.1708\n",
      "Epoch [2/5], Step [100/600], Loss: 0.0783\n",
      "Epoch [2/5], Step [200/600], Loss: 0.1195\n",
      "Epoch [2/5], Step [300/600], Loss: 0.0305\n",
      "Epoch [2/5], Step [400/600], Loss: 0.1105\n",
      "Epoch [2/5], Step [500/600], Loss: 0.0387\n",
      "Epoch [2/5], Step [600/600], Loss: 0.0848\n",
      "Epoch [3/5], Step [100/600], Loss: 0.0564\n",
      "Epoch [3/5], Step [200/600], Loss: 0.0563\n",
      "Epoch [3/5], Step [300/600], Loss: 0.0288\n",
      "Epoch [3/5], Step [400/600], Loss: 0.0684\n",
      "Epoch [3/5], Step [500/600], Loss: 0.0698\n",
      "Epoch [3/5], Step [600/600], Loss: 0.0307\n",
      "Epoch [4/5], Step [100/600], Loss: 0.0355\n",
      "Epoch [4/5], Step [200/600], Loss: 0.0286\n",
      "Epoch [4/5], Step [300/600], Loss: 0.0527\n",
      "Epoch [4/5], Step [400/600], Loss: 0.0348\n",
      "Epoch [4/5], Step [500/600], Loss: 0.0475\n",
      "Epoch [4/5], Step [600/600], Loss: 0.0124\n",
      "Epoch [5/5], Step [100/600], Loss: 0.0337\n",
      "Epoch [5/5], Step [200/600], Loss: 0.0305\n",
      "Epoch [5/5], Step [300/600], Loss: 0.0235\n",
      "Epoch [5/5], Step [400/600], Loss: 0.0242\n",
      "Epoch [5/5], Step [500/600], Loss: 0.0749\n",
      "Epoch [5/5], Step [600/600], Loss: 0.0588\n"
     ]
    }
   ],
   "source": [
    "torch.manual_seed(0)\n",
    "\n",
    "total_step = len(train_loader)\n",
    "for epoch in range(5):\n",
    "    for i, (images, labels) in enumerate(train_loader): \n",
    "\n",
    "        outputs = model(images)\n",
    "        loss = criterion(outputs, labels)\n",
    "\n",
    "        optimizer.zero_grad()\n",
    "        loss.backward()\n",
    "        optimizer.step()\n",
    "        \n",
    "        if (i+1) % 100 == 0:\n",
    "            print ('Epoch [{}/{}], Step [{}/{}], Loss: {:.4f}' \n",
    "                   .format(epoch+1, 5, i+1, total_step, loss.item()))"
   ]
  },
  {
   "cell_type": "code",
   "execution_count": 7,
   "metadata": {
    "colab": {
     "base_uri": "https://localhost:8080/"
    },
    "id": "TJVjWqoETNfi",
    "outputId": "827489cb-adbb-4725-9056-8062cf49d51b"
   },
   "outputs": [
    {
     "name": "stdout",
     "output_type": "stream",
     "text": [
      "Accuracy: 98.23 %\n"
     ]
    }
   ],
   "source": [
    "with torch.no_grad():\n",
    "    correct = 0\n",
    "    total = 0\n",
    "    for images, labels in test_loader:\n",
    "        outputs = model(images)\n",
    "        _, predicted = torch.max(outputs.data, 1)\n",
    "        total += labels.size(0)\n",
    "        correct += (predicted == labels).sum().item()\n",
    "\n",
    "    print('Accuracy: {} %'.format(100 * correct / total))"
   ]
  },
  {
   "cell_type": "markdown",
   "metadata": {
    "id": "xV0j3eVMTNfk"
   },
   "source": [
    "## LeNet-5 на Keras"
   ]
  },
  {
   "cell_type": "code",
   "execution_count": 32,
   "metadata": {
    "id": "SW8xdQHTTNfl"
   },
   "outputs": [],
   "source": [
    "import keras\n",
    "from keras.models import Sequential\n",
    "from keras.layers import Conv2D, AveragePooling2D, Flatten, Dense, MaxPooling2D\n",
    "\n",
    "from tensorflow.keras.utils import to_categorical"
   ]
  },
  {
   "cell_type": "code",
   "execution_count": 11,
   "metadata": {
    "colab": {
     "base_uri": "https://localhost:8080/"
    },
    "id": "Agrv0gEVTNfm",
    "outputId": "d7765a0e-1c79-43ca-9881-3d4fae1e97fb"
   },
   "outputs": [
    {
     "name": "stdout",
     "output_type": "stream",
     "text": [
      "Downloading data from https://storage.googleapis.com/tensorflow/tf-keras-datasets/mnist.npz\n",
      "11493376/11490434 [==============================] - 0s 0us/step\n",
      "11501568/11490434 [==============================] - 0s 0us/step\n"
     ]
    }
   ],
   "source": [
    "(X_train, y_train), (X_test, y_test) = keras.datasets.mnist.load_data()\n",
    "X_train = X_train.reshape(X_train.shape[0], 28, 28, 1)\n",
    "X_test = X_test.reshape(X_test.shape[0], 28, 28, 1)\n",
    "\n",
    "y_train = to_categorical(y_train, 10)\n",
    "y_test = to_categorical(y_test, 10)"
   ]
  },
  {
   "cell_type": "code",
   "execution_count": 12,
   "metadata": {
    "id": "XK9bOF2sTNfn"
   },
   "outputs": [],
   "source": [
    "model = Sequential()\n",
    "model.add(Conv2D(filters=6, kernel_size=(5, 5), activation='tanh', input_shape=(28, 28, 1), \n",
    "                 padding='same'))\n",
    "model.add(AveragePooling2D(pool_size=(2, 2)))\n",
    "model.add(Conv2D(filters=16, kernel_size=(5, 5), activation='tanh'))\n",
    "model.add(AveragePooling2D(pool_size=(2, 2)))\n",
    "model.add(Flatten())\n",
    "\n",
    "model.add(Dense(units=120, activation='tanh'))\n",
    "model.add(Dense(units=84, activation='tanh'))\n",
    "model.add(Dense(units=10, activation='softmax'))"
   ]
  },
  {
   "cell_type": "code",
   "execution_count": 13,
   "metadata": {
    "colab": {
     "base_uri": "https://localhost:8080/"
    },
    "id": "sLPu4-qUTNfn",
    "outputId": "ee81d52c-a6b5-421a-ac61-8dcbcff216c6"
   },
   "outputs": [
    {
     "name": "stdout",
     "output_type": "stream",
     "text": [
      "Model: \"sequential\"\n",
      "_________________________________________________________________\n",
      "Layer (type)                 Output Shape              Param #   \n",
      "=================================================================\n",
      "conv2d (Conv2D)              (None, 28, 28, 6)         156       \n",
      "_________________________________________________________________\n",
      "average_pooling2d (AveragePo (None, 14, 14, 6)         0         \n",
      "_________________________________________________________________\n",
      "conv2d_1 (Conv2D)            (None, 10, 10, 16)        2416      \n",
      "_________________________________________________________________\n",
      "average_pooling2d_1 (Average (None, 5, 5, 16)          0         \n",
      "_________________________________________________________________\n",
      "flatten (Flatten)            (None, 400)               0         \n",
      "_________________________________________________________________\n",
      "dense (Dense)                (None, 120)               48120     \n",
      "_________________________________________________________________\n",
      "dense_1 (Dense)              (None, 84)                10164     \n",
      "_________________________________________________________________\n",
      "dense_2 (Dense)              (None, 10)                850       \n",
      "=================================================================\n",
      "Total params: 61,706\n",
      "Trainable params: 61,706\n",
      "Non-trainable params: 0\n",
      "_________________________________________________________________\n"
     ]
    }
   ],
   "source": [
    "model.summary()"
   ]
  },
  {
   "cell_type": "code",
   "execution_count": 14,
   "metadata": {
    "id": "rLps55hWTNfo"
   },
   "outputs": [],
   "source": [
    "model.compile(loss='categorical_crossentropy', optimizer='adam', \n",
    "              metrics=['accuracy'])"
   ]
  },
  {
   "cell_type": "code",
   "execution_count": 15,
   "metadata": {
    "colab": {
     "base_uri": "https://localhost:8080/"
    },
    "id": "Bw5Dm-A2TNfo",
    "outputId": "fe0bf830-e2ca-46d5-e767-de283a380162"
   },
   "outputs": [
    {
     "name": "stdout",
     "output_type": "stream",
     "text": [
      "Epoch 1/5\n",
      "600/600 [==============================] - 40s 65ms/step - loss: 0.1825 - accuracy: 0.9482 - val_loss: 0.0764 - val_accuracy: 0.9772\n",
      "Epoch 2/5\n",
      "600/600 [==============================] - 38s 63ms/step - loss: 0.0679 - accuracy: 0.9789 - val_loss: 0.0612 - val_accuracy: 0.9817\n",
      "Epoch 3/5\n",
      "600/600 [==============================] - 39s 64ms/step - loss: 0.0522 - accuracy: 0.9839 - val_loss: 0.0420 - val_accuracy: 0.9852\n",
      "Epoch 4/5\n",
      "600/600 [==============================] - 39s 64ms/step - loss: 0.0406 - accuracy: 0.9871 - val_loss: 0.0381 - val_accuracy: 0.9880\n",
      "Epoch 5/5\n",
      "600/600 [==============================] - 39s 65ms/step - loss: 0.0335 - accuracy: 0.9895 - val_loss: 0.0354 - val_accuracy: 0.9885\n"
     ]
    },
    {
     "data": {
      "text/plain": [
       "<keras.callbacks.History at 0x7f9bb3b46ed0>"
      ]
     },
     "execution_count": 15,
     "metadata": {},
     "output_type": "execute_result"
    }
   ],
   "source": [
    "model.fit(X_train, y_train, batch_size=100, epochs=5, validation_data=(X_test, y_test))"
   ]
  },
  {
   "cell_type": "markdown",
   "metadata": {
    "id": "7cQSBwXBTNfp"
   },
   "source": [
    "### Задание"
   ]
  },
  {
   "cell_type": "markdown",
   "metadata": {
    "id": "lQ_0rqoFTNfp"
   },
   "source": [
    "Реализовать и обучить в PyTorch и Keras следующую архитектуру:"
   ]
  },
  {
   "cell_type": "markdown",
   "metadata": {
    "id": "iEDJjlZBTNfp"
   },
   "source": [
    "<img src=\"https://www.easy-tensorflow.com/images/cnntext.png\">"
   ]
  },
  {
   "cell_type": "markdown",
   "metadata": {
    "id": "1T4gpPLeTyvF"
   },
   "source": [
    "#  PyTorch"
   ]
  },
  {
   "cell_type": "code",
   "execution_count": 80,
   "metadata": {
    "id": "V6zc0kA-Tx60"
   },
   "outputs": [],
   "source": [
    "class LeNet5(nn.Module):\n",
    "    def __init__(self, num_classes):\n",
    "        super(LeNet5, self).__init__()\n",
    "        self.conv_layer1 = nn.Conv2d(in_channels=1, out_channels=16, kernel_size=5, stride=1)\n",
    "        self.conv_layer2 = nn.Conv2d(in_channels=16, out_channels=32, kernel_size=5, stride=1, padding=2)\n",
    "        self.conv_layer3 = nn.Conv2d(in_channels=32, out_channels=128, kernel_size=7, stride=1)\n",
    "        self.pooling_layer1 = nn.MaxPool2d(kernel_size=2)\n",
    "        self.pooling_layer2 = nn.MaxPool2d(kernel_size=2)\n",
    "        \n",
    "        self.linear_layer1 = nn.Linear(in_features=128, out_features=num_classes)\n",
    "        \n",
    "        self.relu = nn.ReLU()\n",
    "        \n",
    "    def forward(self, inputs):\n",
    "        output_1 = self.relu(self.conv_layer1(inputs))\n",
    "        output_2 = self.pooling_layer1(output_1)\n",
    "        output_3 = self.relu(self.conv_layer2(output_2))\n",
    "        output_4 = self.pooling_layer2(output_3)\n",
    "        output_5 = self.relu(self.conv_layer3(output_4))\n",
    "        output_6 = torch.flatten(output_5, 1)\n",
    "        \n",
    "        output = self.linear_layer1(output_6)\n",
    "        \n",
    "        return output"
   ]
  },
  {
   "cell_type": "code",
   "execution_count": 81,
   "metadata": {
    "colab": {
     "base_uri": "https://localhost:8080/"
    },
    "id": "GrUZjM0STNfq",
    "outputId": "01affcc1-2134-4e71-eab6-21ec782ad1c8"
   },
   "outputs": [
    {
     "name": "stdout",
     "output_type": "stream",
     "text": [
      "LeNet5(\n",
      "  (conv_layer1): Conv2d(1, 16, kernel_size=(5, 5), stride=(1, 1))\n",
      "  (conv_layer2): Conv2d(16, 32, kernel_size=(5, 5), stride=(1, 1), padding=(2, 2))\n",
      "  (conv_layer3): Conv2d(32, 128, kernel_size=(7, 7), stride=(1, 1))\n",
      "  (pooling_layer1): MaxPool2d(kernel_size=2, stride=2, padding=0, dilation=1, ceil_mode=False)\n",
      "  (pooling_layer2): MaxPool2d(kernel_size=2, stride=2, padding=0, dilation=1, ceil_mode=False)\n",
      "  (linear_layer1): Linear(in_features=128, out_features=10, bias=True)\n",
      "  (relu): ReLU()\n",
      ")\n"
     ]
    }
   ],
   "source": [
    "model = LeNet5(10)\n",
    "print(model)"
   ]
  },
  {
   "cell_type": "code",
   "execution_count": 82,
   "metadata": {
    "id": "WNsS0-UvTNfq"
   },
   "outputs": [],
   "source": [
    "criterion = nn.CrossEntropyLoss()\n",
    "optimizer = torch.optim.Adam(model.parameters(), lr=0.001)"
   ]
  },
  {
   "cell_type": "code",
   "execution_count": 83,
   "metadata": {
    "colab": {
     "base_uri": "https://localhost:8080/"
    },
    "id": "FKIHcINyTNfq",
    "outputId": "5552926e-fa40-44f4-abc2-559666d958a7"
   },
   "outputs": [
    {
     "name": "stdout",
     "output_type": "stream",
     "text": [
      "Epoch [1/5], Step [100/600], Loss: 0.3516\n",
      "Epoch [1/5], Step [200/600], Loss: 0.1705\n",
      "Epoch [1/5], Step [300/600], Loss: 0.1048\n",
      "Epoch [1/5], Step [400/600], Loss: 0.0711\n",
      "Epoch [1/5], Step [500/600], Loss: 0.0134\n",
      "Epoch [1/5], Step [600/600], Loss: 0.0476\n",
      "Epoch [2/5], Step [100/600], Loss: 0.0355\n",
      "Epoch [2/5], Step [200/600], Loss: 0.0757\n",
      "Epoch [2/5], Step [300/600], Loss: 0.0199\n",
      "Epoch [2/5], Step [400/600], Loss: 0.0554\n",
      "Epoch [2/5], Step [500/600], Loss: 0.0398\n",
      "Epoch [2/5], Step [600/600], Loss: 0.0434\n",
      "Epoch [3/5], Step [100/600], Loss: 0.0147\n",
      "Epoch [3/5], Step [200/600], Loss: 0.0197\n",
      "Epoch [3/5], Step [300/600], Loss: 0.0220\n",
      "Epoch [3/5], Step [400/600], Loss: 0.0092\n",
      "Epoch [3/5], Step [500/600], Loss: 0.0188\n",
      "Epoch [3/5], Step [600/600], Loss: 0.0142\n",
      "Epoch [4/5], Step [100/600], Loss: 0.0158\n",
      "Epoch [4/5], Step [200/600], Loss: 0.0396\n",
      "Epoch [4/5], Step [300/600], Loss: 0.0434\n",
      "Epoch [4/5], Step [400/600], Loss: 0.0072\n",
      "Epoch [4/5], Step [500/600], Loss: 0.0241\n",
      "Epoch [4/5], Step [600/600], Loss: 0.0038\n",
      "Epoch [5/5], Step [100/600], Loss: 0.0159\n",
      "Epoch [5/5], Step [200/600], Loss: 0.0092\n",
      "Epoch [5/5], Step [300/600], Loss: 0.0067\n",
      "Epoch [5/5], Step [400/600], Loss: 0.0071\n",
      "Epoch [5/5], Step [500/600], Loss: 0.0062\n",
      "Epoch [5/5], Step [600/600], Loss: 0.0149\n"
     ]
    }
   ],
   "source": [
    "torch.manual_seed(0)\n",
    "\n",
    "total_step = len(train_loader)\n",
    "for epoch in range(5):\n",
    "    for i, (images, labels) in enumerate(train_loader): \n",
    "\n",
    "        outputs = model(images)\n",
    "        loss = criterion(outputs, labels)\n",
    "\n",
    "        optimizer.zero_grad()\n",
    "        loss.backward()\n",
    "        optimizer.step()\n",
    "        \n",
    "        if (i+1) % 100 == 0:\n",
    "            print ('Epoch [{}/{}], Step [{}/{}], Loss: {:.4f}' \n",
    "                   .format(epoch+1, 5, i+1, total_step, loss.item()))"
   ]
  },
  {
   "cell_type": "markdown",
   "metadata": {
    "id": "Cy99gQduWoru"
   },
   "source": [
    "# Keras"
   ]
  },
  {
   "cell_type": "code",
   "execution_count": 84,
   "metadata": {
    "id": "6ULNSprwWfox"
   },
   "outputs": [],
   "source": [
    "(X_train, y_train), (X_test, y_test) = keras.datasets.mnist.load_data()\n",
    "X_train = X_train.reshape(X_train.shape[0], 28, 28, 1)\n",
    "X_test = X_test.reshape(X_test.shape[0], 28, 28, 1)\n",
    "\n",
    "y_train = to_categorical(y_train, 10)\n",
    "y_test = to_categorical(y_test, 10)"
   ]
  },
  {
   "cell_type": "code",
   "execution_count": 86,
   "metadata": {
    "id": "nX2vDgwMW7hm"
   },
   "outputs": [],
   "source": [
    "model = Sequential()\n",
    "model.add(Conv2D(filters=16, kernel_size=(5, 5), activation='ReLU', input_shape=(28, 28, 1), \n",
    "                 padding='same'))\n",
    "model.add(MaxPooling2D(pool_size=(2, 2)))\n",
    "model.add(Conv2D(filters=32, kernel_size=(5, 5), activation='ReLU', padding='same'))\n",
    "model.add(MaxPooling2D(pool_size=(2, 2)))\n",
    "model.add(Conv2D(filters=128, kernel_size=(7, 7), activation='ReLU'))\n",
    "model.add(Flatten())\n",
    "\n",
    "model.add(Dense(units=10, activation='softmax'))"
   ]
  },
  {
   "cell_type": "code",
   "execution_count": 87,
   "metadata": {
    "colab": {
     "base_uri": "https://localhost:8080/"
    },
    "id": "B3tAQZiYYuLL",
    "outputId": "52cb1c0d-be74-4d3e-deda-d9767ad3e78f"
   },
   "outputs": [
    {
     "name": "stdout",
     "output_type": "stream",
     "text": [
      "Model: \"sequential_4\"\n",
      "_________________________________________________________________\n",
      "Layer (type)                 Output Shape              Param #   \n",
      "=================================================================\n",
      "conv2d_7 (Conv2D)            (None, 28, 28, 16)        416       \n",
      "_________________________________________________________________\n",
      "max_pooling2d_3 (MaxPooling2 (None, 14, 14, 16)        0         \n",
      "_________________________________________________________________\n",
      "conv2d_8 (Conv2D)            (None, 14, 14, 32)        12832     \n",
      "_________________________________________________________________\n",
      "max_pooling2d_4 (MaxPooling2 (None, 7, 7, 32)          0         \n",
      "_________________________________________________________________\n",
      "conv2d_9 (Conv2D)            (None, 1, 1, 128)         200832    \n",
      "_________________________________________________________________\n",
      "flatten_2 (Flatten)          (None, 128)               0         \n",
      "_________________________________________________________________\n",
      "dense_5 (Dense)              (None, 10)                1290      \n",
      "=================================================================\n",
      "Total params: 215,370\n",
      "Trainable params: 215,370\n",
      "Non-trainable params: 0\n",
      "_________________________________________________________________\n"
     ]
    }
   ],
   "source": [
    "model.summary()"
   ]
  },
  {
   "cell_type": "code",
   "execution_count": 88,
   "metadata": {
    "id": "JudrWtJ8Y5JQ"
   },
   "outputs": [],
   "source": [
    "model.compile(loss='categorical_crossentropy', optimizer='adam', \n",
    "              metrics=['accuracy'])"
   ]
  },
  {
   "cell_type": "code",
   "execution_count": 89,
   "metadata": {
    "colab": {
     "base_uri": "https://localhost:8080/"
    },
    "id": "HMJd9eLZZK9c",
    "outputId": "ee561642-5424-44df-b285-3d652e121657"
   },
   "outputs": [
    {
     "name": "stdout",
     "output_type": "stream",
     "text": [
      "Epoch 1/5\n",
      "600/600 [==============================] - 88s 146ms/step - loss: 0.4452 - accuracy: 0.9363 - val_loss: 0.0701 - val_accuracy: 0.9770\n",
      "Epoch 2/5\n",
      "600/600 [==============================] - 87s 145ms/step - loss: 0.0577 - accuracy: 0.9818 - val_loss: 0.0547 - val_accuracy: 0.9818\n",
      "Epoch 3/5\n",
      "600/600 [==============================] - 87s 145ms/step - loss: 0.0404 - accuracy: 0.9869 - val_loss: 0.0591 - val_accuracy: 0.9825\n",
      "Epoch 4/5\n",
      "600/600 [==============================] - 87s 144ms/step - loss: 0.0337 - accuracy: 0.9890 - val_loss: 0.0464 - val_accuracy: 0.9855\n",
      "Epoch 5/5\n",
      "600/600 [==============================] - 87s 144ms/step - loss: 0.0304 - accuracy: 0.9901 - val_loss: 0.0782 - val_accuracy: 0.9772\n"
     ]
    },
    {
     "data": {
      "text/plain": [
       "<keras.callbacks.History at 0x7f9bb0bb19d0>"
      ]
     },
     "execution_count": 89,
     "metadata": {},
     "output_type": "execute_result"
    }
   ],
   "source": [
    "model.fit(X_train, y_train, batch_size=100, epochs=5, validation_data=(X_test, y_test))"
   ]
  },
  {
   "cell_type": "code",
   "execution_count": null,
   "metadata": {
    "id": "EvCg-q88ZNeF"
   },
   "outputs": [],
   "source": []
  }
 ],
 "metadata": {
  "colab": {
   "collapsed_sections": [],
   "name": "CNN в PyTorch и Keras.ipynb",
   "provenance": []
  },
  "kernelspec": {
   "display_name": "Python 3",
   "language": "python",
   "name": "python3"
  },
  "language_info": {
   "codemirror_mode": {
    "name": "ipython",
    "version": 3
   },
   "file_extension": ".py",
   "mimetype": "text/x-python",
   "name": "python",
   "nbconvert_exporter": "python",
   "pygments_lexer": "ipython3",
   "version": "3.9.2"
  }
 },
 "nbformat": 4,
 "nbformat_minor": 1
}
