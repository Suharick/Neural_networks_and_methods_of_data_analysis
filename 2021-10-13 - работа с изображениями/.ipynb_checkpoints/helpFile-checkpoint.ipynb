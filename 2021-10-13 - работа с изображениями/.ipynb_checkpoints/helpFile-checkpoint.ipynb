{
 "cells": [
  {
   "cell_type": "code",
   "execution_count": 1,
   "metadata": {},
   "outputs": [],
   "source": [
    "import numpy as np\n",
    "import pandas as pd\n",
    "\n",
    "from PIL import Image"
   ]
  },
  {
   "cell_type": "code",
   "execution_count": 2,
   "metadata": {},
   "outputs": [],
   "source": [
    "img = Image.open('train/indoor/3.jpg')"
   ]
  },
  {
   "cell_type": "code",
   "execution_count": 13,
   "metadata": {},
   "outputs": [
    {
     "data": {
      "text/plain": [
       "array([[ 30,  30,  30, ..., 107, 114, 110],\n",
       "       [ 30,  30,  30, ..., 102, 110, 107],\n",
       "       [ 30,  30,  30, ...,  99, 103,  96],\n",
       "       ...,\n",
       "       [174, 167, 170, ..., 119,  96,  96],\n",
       "       [174, 167, 170, ..., 106, 124, 124],\n",
       "       [174, 167, 170, ..., 168, 172, 172]], dtype=uint8)"
      ]
     },
     "execution_count": 13,
     "metadata": {},
     "output_type": "execute_result"
    }
   ],
   "source": [
    "np.asarray(img)[:,:,0]"
   ]
  },
  {
   "cell_type": "code",
   "execution_count": 19,
   "metadata": {},
   "outputs": [],
   "source": [
    "import glob\n",
    "filenames = glob.glob(\"train\\\\indoor\\\\*\")"
   ]
  },
  {
   "cell_type": "code",
   "execution_count": 24,
   "metadata": {},
   "outputs": [],
   "source": [
    "lst = []\n",
    "for file in filenames[:10]:\n",
    "    img = Image.open(file)\n",
    "    rmean = np.asarray(img)[:,:,0].mean()\n",
    "    gmean = np.asarray(img)[:,:,1].mean()\n",
    "    lst.append([rmean, gmean, 1])"
   ]
  },
  {
   "cell_type": "code",
   "execution_count": 25,
   "metadata": {},
   "outputs": [
    {
     "data": {
      "text/plain": [
       "[[195.11530303030304, 182.66181818181818, 1],\n",
       " [120.772, 104.81533333333333, 1],\n",
       " [134.13716049382717, 107.75296296296297, 1],\n",
       " [138.27693333333335, 139.06893333333332, 1],\n",
       " [128.55493333333334, 112.70813333333334, 1],\n",
       " [158.57439393939393, 142.94651515151514, 1],\n",
       " [163.89348484848486, 169.97590909090908, 1],\n",
       " [166.99626666666666, 135.73493333333334, 1],\n",
       " [111.1928, 111.2984, 1],\n",
       " [197.26287878787878, 188.36530303030304, 1]]"
      ]
     },
     "execution_count": 25,
     "metadata": {},
     "output_type": "execute_result"
    }
   ],
   "source": [
    "lst"
   ]
  },
  {
   "cell_type": "code",
   "execution_count": 27,
   "metadata": {},
   "outputs": [],
   "source": [
    "from sklearn.linear_model import LogisticRegression"
   ]
  },
  {
   "cell_type": "code",
   "execution_count": null,
   "metadata": {},
   "outputs": [],
   "source": [
    "accuracy"
   ]
  }
 ],
 "metadata": {
  "kernelspec": {
   "display_name": "Python 3",
   "language": "python",
   "name": "python3"
  },
  "language_info": {
   "codemirror_mode": {
    "name": "ipython",
    "version": 3
   },
   "file_extension": ".py",
   "mimetype": "text/x-python",
   "name": "python",
   "nbconvert_exporter": "python",
   "pygments_lexer": "ipython3",
   "version": "3.9.2"
  }
 },
 "nbformat": 4,
 "nbformat_minor": 2
}
